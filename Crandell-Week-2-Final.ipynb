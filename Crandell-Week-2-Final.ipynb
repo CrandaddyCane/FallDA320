{
 "cells": [
  {
   "attachments": {},
   "cell_type": "markdown",
   "metadata": {},
   "source": [
    "1. Action: Import Libraries\n",
    "     Goal: Increase access to functions, automation processes, cleanliness"
   ]
  },
  {
   "cell_type": "code",
   "execution_count": 310,
   "metadata": {},
   "outputs": [],
   "source": [
    "import urllib3      #import library that safely connects Python to internet.\n",
    "import certifi      #import library that tells Firefox's high secrurity that we're good.\n",
    "import re           #import library that allows Python to easily read Regex.\n",
    "import pandas as pd #import Pandas library\n",
    "from IPython.core.display import HTML\n"
   ]
  },
  {
   "attachments": {},
   "cell_type": "markdown",
   "metadata": {},
   "source": [
    "2. Construct an HTTP Request Pool to expedite page fetching"
   ]
  },
  {
   "cell_type": "code",
   "execution_count": 311,
   "metadata": {},
   "outputs": [],
   "source": [
    "http = urllib3.PoolManager(ca_certs=certifi.where()) "
   ]
  },
  {
   "attachments": {},
   "cell_type": "markdown",
   "metadata": {},
   "source": [
    "3. URL of Web Scrap"
   ]
  },
  {
   "cell_type": "code",
   "execution_count": 312,
   "metadata": {},
   "outputs": [],
   "source": [
    "link = \"https://www.metacritic.com/browse/movie/all/all/2007/metascore/?page=1\"\n",
    "#year = 2004\n",
    "#link = f\"https://www.metacritic.com/browse/movie/?releaseYearMin={year}&releaseYearMax={year}&page=1\""
   ]
  },
  {
   "attachments": {},
   "cell_type": "markdown",
   "metadata": {},
   "source": [
    "4. Initiation of Web Request"
   ]
  },
  {
   "cell_type": "code",
   "execution_count": 313,
   "metadata": {},
   "outputs": [],
   "source": [
    "r = http.request('GET', link, headers={'User-Agent': 'Mozilla/5.0'})"
   ]
  },
  {
   "attachments": {},
   "cell_type": "markdown",
   "metadata": {},
   "source": [
    "5. Convert the Request's results from Bytes to Text (UTF-8)"
   ]
  },
  {
   "cell_type": "code",
   "execution_count": 314,
   "metadata": {},
   "outputs": [],
   "source": [
    "datastring =str(r.data, \"utf-8\")"
   ]
  },
  {
   "attachments": {},
   "cell_type": "markdown",
   "metadata": {},
   "source": [
    "6. Use Regex to find data fields, then save that field as an array"
   ]
  },
  {
   "cell_type": "code",
   "execution_count": 315,
   "metadata": {},
   "outputs": [],
   "source": [
    "# Movie Name\n",
    "movieTitle = r'<div data-title=\"(.*?)\"'\n",
    "results_Title = re.findall(movieTitle, datastring)\n",
    "\n",
    "# Release Date\n",
    "releaseDate = r'u-text-uppercase\\\">\\s+(.*)'\n",
    "results_RelDate = re.findall(releaseDate, datastring) \n",
    "\n",
    "# Metacritic Score\n",
    "metacriticScore = r'<div title=\"Metascore (.*?) out of 100\"'\n",
    "results_Metacritic = re.findall(metacriticScore, datastring)\n",
    "\n",
    "# Movie Description\n",
    "movieSummary = r'<div class=\"c-finderProductCard_description\"><span>([^<]*)<'\n",
    "results_summary = re.findall(movieSummary, datastring) \n",
    "\n",
    "# Movie Thumbail\n",
    "movieThumbnail = r'<img src=\"(.*?\\d)\" h'\n",
    "movieThumbnail_results = re.findall(movieThumbnail, datastring)\n"
   ]
  },
  {
   "attachments": {},
   "cell_type": "markdown",
   "metadata": {},
   "source": [
    "7. Print confirmation of each field"
   ]
  },
  {
   "cell_type": "code",
   "execution_count": 316,
   "metadata": {},
   "outputs": [
    {
     "name": "stdout",
     "output_type": "stream",
     "text": [
      "Found 24 matches: '['4 Months, 3 Weeks and 2 Days', 'Ratatouille', 'There Will Be Blood', 'The Diving Bell and the Butterfly', 'No Country for Old Men', 'Once', 'Persepolis', 'No End in Sight', 'Flight of the Red Balloon', \"Before the Devil Knows You're Dead\", 'Alexandra', 'All Is Forgiven (2007)', 'Knocked Up', 'Forbidden Lie$', 'The Savages', 'Atonement', 'The Edge of Heaven', 'The Bourne Ultimatum', 'In the Shadow of the Moon', 'Up the Yangtze', 'Paranoid Park', 'My Winnipeg', 'Secret Sunshine', 'U2 3D']'.\n",
      "Found 24 matches: ['Jan 23, 2008', 'Jun 29, 2007', 'Dec 26, 2007', 'Nov 30, 2007', 'Nov 9, 2007', 'May 16, 2007', 'Dec 25, 2007', 'Jul 27, 2007', 'Apr 4, 2008', 'Oct 26, 2007', 'Mar 26, 2008', 'Nov 5, 2021', 'Jun 1, 2007', 'Apr 3, 2009', 'Nov 28, 2007', 'Dec 7, 2007', 'May 21, 2008', 'Aug 3, 2007', 'Sep 7, 2007', 'Apr 25, 2008', 'Mar 7, 2008', 'Jun 13, 2008', 'Dec 22, 2010', 'Jan 23, 2008'].\n",
      "Found 24 matches: ['97', '96', '93', '92', '92', '90', '90', '89', '86', '86', '85', '85', '85', '85', '85', '85', '85', '85', '84', '84', '84', '84', '84', '83'].\n",
      "Found 24 matches: [\"During the final days of communism in Romania, two college roommates Otilia and Gabita are busy preparing for a night away. But rather than planning for a holiday, they are making arrangements for Gabita's illegal abortion and unwittingly, both find themselves burrowing deep down a rabbit hole of unexpected revelations. [IFC Films]\", \"Despite his sensational sniffer and sophisticated palate, Remy's dreams of becoming a chef seem hopeless due to one small detail--he's a rat! Through a twist of fate, he ends up in the world-famous restaurant of his late hero, Auguste Gusteau. With a dash of culinary courage and the help of garbage boy Linguini, Remy whips up exquisite meals that impress even the nasty chef Skinner and food critic Anton Ego. Together they conquer the kitchen and prove that big dreams can come true no matter how small you are. [Disney]\", \"When Daniel Plainview gets a mysterious tip-off that there's a little town out West where an ocean of oil is oozing out of the ground, he heads there with his son, H.W., to take their chances in dust-worn Little Boston. In this hardscrabble town, where the main excitement centers around the Holy Roller church of charismatic preacher Eli Sunday, Plainview and H.W. make their lucky strike. But even as the well raises all of their fortunes, nothing will remain the same as conflicts escalate and every human value—love, hope, community, belief, ambition, and even the bond between father and son—is imperiled by corruption, deception, and the flow of oil. [Paramount Vantage]\", \"The Diving Bell and the Butterfly is the remarkable true story of Jean-Dominique Bauby, a successful and charismatic editor-in-chief of French Elle, who believes he is living his life to its absolute fullest when a sudden stroke leaves him in a life-altered state. While the physical challenges of Bauby's fate leave him with little hope for the future, he begins to discover how his life's passions, his rich memories and his newfound imagination can help him achieve a life without boundaries. (Miramax Film)\", \"The time is our own, when rustlers have given way to drug runners and small towns have become free-fire zones. The story begins when Llewelyn Moss finds a pickup truck surrounded by a sentry of dead men. A load of heroin and 2 million dollars in cash are still in the back. When Moss takes the money, he sets off a chain reaction of catastrophic violence that not even the law, in the person of aging, disillusioned Sheriff Bell, can contain. As Moss tries to evade his pursuers--in particular, a mysterious mastermind who flips coins for human lives--the film simultaneously strips down the American crime drama and broadens its concerns to encompass themes as ancient as the Bible and as bloodily contemporary as this morning's headline. (Miramax)\", 'A modern day musical set on the streets of Dublin. Featuring Glen Hansard from the Irish band &quot;The Frames,&quot; the film tells the story of a street musician and a Czech immigrant during an eventful week as they write, rehearse and record songs that reveal their unique love story.  (Fox Searchlight)', \"Persepolis is the poignant story of a young girl in Iran during the Islamic Revolution. It is through the eyes of the precocious and outspoken 9-year-old Marjane that we see a people's hopes dashed as fundamentalists take power--forcing the veil on women and imprisoning thousands. Clever and fearless, Marjane outsmarts the &quot;social guardians&quot; and discovers punk, ABBA, and Iron Maiden. Yet when her uncle is senselessly executed and as bombs fall around Tehran in the Iran/Iraq war, the daily fear that permeates life in Iran is palpable. [Sony Classics]\", 'The first film of its kind to chronicle the reasons behind Iraq’s descent into guerrilla war, warlord rule, criminality and anarchy, No End in Sight is a jaw-dropping, insider’s tale of wholesale incompetence, recklessness and venality. Based on over 200 hours of footage, the film provides a candid retelling of the events following the fall of Baghdad in 2003 by high ranking officials such as former Deputy Secretary of State Richard Armitage, Ambassador Barbara Bodine (in charge of Baghdad during the Spring of 2003), Colonel Lawrence Wilkerson, former Chief of Staff to Colin Powell, and General Jay Garner (in charge of the occupation of Iraq through May 2003), as well as Iraqi civilians, American soldiers and prominent analysts. No End in Sight examines the manner in which the principal errors of U.S. policy – the use of insufficient troop levels, allowing the looting of Baghdad, the purging of professionals from the Iraqi government and the disbanding of the Iraqi military – largely created the insurgency and chaos that engulf Iraq today. (Magnolia Pictures)', \"A highlight at the 2007 Cannes, Toronto, and New York film festivals, Flight of the Red Balloon is the latest masterpiece from Hou Hsiao Hsien. Inspired by Albert Lamorisse's 1956 Academy Award-winning classic, Flight of the Red Balloon, Hou expands on that film's key elements--a young boy, a red balloon, and Paris--to weave an achingly beautiful tale about the mysteries of familial bonds and the lingering effects the past has on us all. Simon, a precocious young boy, must deal with the increasing fragility of his mother, the loving yet preoccupied Suzanne. Completely immersed in her own tribulations, Suzanne hires Song, a Taiwanese film student, to help care for Simon. Together with Song, a unique extended family is formed, utterly interdependent yet lost in separate thoughts and dreams mirrored by a delicate, shiny red balloon. (IFC First Take)\", \"Andy, an overextended broker, lures his younger brother--Hank--into a larcenous scheme: the pair will rob a suburban mom-and-pop jewelry store that appears to be the quintessential easy target. The problem is, the store owners are Andy and Hank's actual mom and pop--and--when the seemingly perfect crime goes awry, the damage lands right at their doorstep. (THINKFilm)\", 'In a desolate, sun-scorched corner of the world, an elderly woman has come to see her beloved grandson, a young officer stationed at a remote military outpost. With the enemy just beyond the compound, she wanders the barracks, observing the routine of military life, before making a sudden trip to the outlying countryside. (The Cinema Guild)', 'In Vienna, 1995, we meet writer and covert heroin addict Victor (Paul Blain); his partner, Annette (Marie-Christine Friedrich); and their young daughter, Pamela (Victoire Rousseau). After capturing this family unit on the verge of crisis in cutting, incisive scenes that track the signs of domestic and personal breakdown as they surface in everyday life, Hansen-Løve audaciously leaps across the span of eleven years with a single title card, shifting the film’s focus to a now-adolescent Pamela (Constance Rousseau), living in Paris, as she attempts to sift through the wreckage of her parents’ relationship and mend fences with her long-absent father. [Metrograph]', 'In this film about a one-night stand with unexpected consequences.  Judd Apatow takes comic look at the best thing that will ever ruin your best-laid plans: parenthood.  (Universal)', \"Norma Khouri is a thief, a saint, a seductress or a sociopath, depending on who you talk to. Men want to marry her, Islamic extremists want to kill her, and the global publishing industry wishes she would just disappear. Khouri won fame and fortune with her 'true story' Forbidden Love, about a shocking honor killing in Jordan. The book was a runaway bestseller, translated into multiple languages and Khouri became the toast of the literary world. That was until July 2004, when esteemed Sydney Morning Herald journalist Malcolm Knox exposed her book as a work of fiction. Weaving between the literary salons of London, the mosque-lined vistas of Jordan, the beach side suburbs of Queensland and the seamy Chicago back streets of Norma's dubious past, Forbidden Lie$ pits Norma's tale against the stories of the those who believe she duped them: the publishers, the FBI, her next door neighbor...even her husband. But the most compelling character of all is Norma who, encouraged by director Anna Broinowski, journeys through every shade of gray that separates fact from fiction. Dir. Anna Broinowski. (Roxie Releasing)\", 'The Savages is an irreverent look at family, love and mortality as seen through the lens of one of modern life’s most bewildering and challenging experiences: when adult siblings find themselves plucked from their everyday, self-centered lives to care for an estranged elderly parent. (Fox Searchlight)', \"Atonement spans several decades. In 1935, 13-year-old fledgling writer Briony Tallis and her family live a life of wealth and privilege in their enormous mansion. On the warmest day of the year, the country estate takes on an unsettling hothouse atmosphere, stoking Briony's vivid imagination. Robbie Turner, the educated son of the family's housekeeper, carries a torch for Briony's headstrong older sister, Cecilia. Cecilia, he hopes, has comparable feelings; all it will take is one spark for this relationship to combust. When it does, Briony--who has a crush on Robbie--is compelled to interfere, going so far as to accuse Robbie of a crime he did not commit. Cecilia and Robbie declare their love for each other, but Robbie is arrested--and with Briony bearing false witness, the course of three lives is changed forever. Briony continues to seek forgiveness for her childhood misdeed. Through a terrible and courageous act of imagination, she finds the path to her uncertain atonement and to an understanding of the power of enduring love. (Focus Features)\", 'Nejat initially disapproves of his widower father Ali`s choice of prostitute Yeter for a live-in girlfriend. But the young professor warms to her when he learns that most of her hard-earned money is sent home to Turkey for her daughter’s university studies. After Yeter`s accidental death, Nejat travels to Istanbul to search for Yeter`s daughter Ayten. Political activist Ayten has fled the Turkish police and is already in Germany. She is befriended by a young woman, Lotte, who invites rebellious Ayten to stay in her home, much to the displeasure of her conservative mother, Susanne. When Ayten is arrested and her asylum plea denied, she is deported and imprisoned in Turkey. Passionate Lotte abandons everything to help Ayten. A tragic event brings Susanne to Istanbul to help fulfill her daughter`s mission. (Strand Releasing)\\r\\n', 'All he wanted was to disappear.  Instead, Jason Bourne is now hunted by the people who made him what he is. Having lost his memory and the one person he loved, he is undeterred by the barrage of bullets and a new generation of highly-trained killers.  Bourne has only one objective: to go back to the beginning and find out who he was. (Universal)', 'Between 1968 and 1972, nine American spacecrafts voyaged to the Moon, and 12 men walked upon its surface. They remain the only human beings to have stood on another world. In the Shadow of the Moon brings together for the first--and possibly the last--time the surviving crew members from every single Apollo mission that flew to the Moon, and allows them to tell their story in their own words. This riveting first-hand testimony is interwoven with visually stunning archival material that has been remastered from the original NASA film footage--much of it never used before. The result is an intimate epic that vividly communicates the daring, the danger, the pride, and the promise of this extraordinary era in history, when the whole world literally looked up at America. (THINKFilm)', \"In China, it is simply known as 'The River.' But the Yangtze—and all of the life that surrounds it—is undergoing an astonishing transformation wrought by the largest hydroelectric project in history, the Three Gorges Dam. Chinese-Canadian director Yung Chang returns to the gorgeous, now-disappearing landscape of his grandfather’s youth to trace the surreal life of a “farewell cruise” that traverses the gargantuan waterway. With a humanist gaze and wry wit Chang’s Upstairs Downstairs approach captures the microcosmic society of the luxury liner. Below deck: a bewildered young girl trains as a dishwasher sent to work by her peasant family, who is on the verge of relocation from the encroaching floodwaters. Above deck: wealthy international tourists set sail to catch a last glance of a country in dramatic flux. The teenage employees who serve and entertain them—tagged with new Westernized names like “Cindy” and “Jerry” by upper management—warily grasp at the prospect of a better future. &quot;Up the Yangtze&quot; gives a human dimension to the wrenching changes facing not only an increasingly globalized China, but the world at large. (Zeitgeist Films)\", \"An unsolved murder at Portland's infamous Paranoid Park brings detectives to a local high school, propelling a young skater into a moral odyssey in which he must not only deal with the pain and disconnect of adolescence but also the consequences of his own actions. As director of &quot;My Own Private Idaho&quot;, &quot;Good Will Hunting&quot;, &quot;To Die For&quot;, and &quot;Elephant&quot;, Gus Van Sant has created some of the most memorable works about youth ever committed to film. At the 2007 Cannes Film Festival, he was awarded the 60th Anniversary Prize for Paranoid Park, which is largely considered one of his finest films. (IFC First Take)\", \"Have you ever wanted to relive your childhood and do things differently? Guy Maddin casts B-movie icon Ann Savage as his domineering mother in attempt to answer that question in My Winnipeg, a hilariously wacky and profoundly touching goodbye letter to his childhood hometown. A documentary (or &quot;docu-fantasia&quot; as Maddin proclaims) that inventively blends local and personal history with surrealist images and metaphorical myths, the film covers everything from the fire at the local park which lead to a frozen lake of distressed horse heads to pivotal and factually heightened scenes from Maddin's own childhood, all laced with a startling emotional honesty. My Winnipeg is Maddin's most personal film and a truly unique cinematic experience, winning the best Canadian film at the Toronto International Film Festival and the opening night selection of the Berlin Film Festival's Forum. [IFC Films]\", 'Sin-ae moves with her son Jun to Miryang, the town where her dead husband was born. As she tries to come to herself and set out on new foundations, another tragic event overturns her life. (IFC Films)', \"U2 3D transforms a series of live concerts by one of the world's most acclaimed bands into a completely new entertainment experience that takes viewers on an extraordinary cinematic journey, a quantum leap beyond traditional concert films and traditional 3-D.\\r\\nU2 3D captivated an international audience as a work-in-progress during the 2007 Cannes Film Festival. (National Geographic Cinema Ventures)\"].\n",
      "Found 24 matches: ['https://www.metacritic.com/a/img/resize/3884dc40fc69a72e0f15b2308fa3446966c3978a/catalog/provider/2/2/2-808bb3acc87fc9a62e456c127fc1b970.jpg?auto=webp&amp;fit=cover&amp;height=132&amp;width=88', 'https://www.metacritic.com/a/img/resize/6c04d981f26ed64c943d092db34241df224abcc1/catalog/provider/2/2/2-78b6365b44df63a53040c98f9d53a82c.jpg?auto=webp&amp;fit=cover&amp;height=132&amp;width=88', 'https://www.metacritic.com/a/img/resize/06029d095c89349bbc5af8b0a77e3359b4ba3698/catalog/provider/2/2/2-bdf7fb8e5ac4e17a76ebda5bca6b35f0.jpg?auto=webp&amp;fit=cover&amp;height=132&amp;width=88', 'https://www.metacritic.com/a/img/resize/838ec9829d7972972e60eb2d4404340247613620/catalog/provider/2/2/2-4f84e5b70fbd841411ea12dbad206ee5.jpg?auto=webp&amp;fit=cover&amp;height=132&amp;width=88', 'https://www.metacritic.com/a/img/resize/46cd3a2ebdcbfdf991e3680c7e5a318072cc41b8/catalog/provider/2/2/2-c4cacf62ab607e16c6d8df538b53d40a.jpg?auto=webp&amp;fit=cover&amp;height=132&amp;width=88', 'https://www.metacritic.com/a/img/resize/ac3d3ba2cbabf9ccd3ce9851177ffeda16381f0e/catalog/provider/2/2/2-59fa3c957fcb7b1154a2edbb8876b509.jpg?auto=webp&amp;fit=cover&amp;height=132&amp;width=88', 'https://www.metacritic.com/a/img/resize/b0e49105a2786515b3c1c95db35b59c2f969dc8f/catalog/provider/2/2/2-5b7347891c6b847f91b4c69ddd259adc.jpg?auto=webp&amp;fit=cover&amp;height=132&amp;width=88', 'https://www.metacritic.com/a/img/resize/4da0c47fdca1cc157d26e6b627b0ee19e572208e/catalog/provider/2/2/2-f061dd07b8b9cc816755111d926c3871.jpg?auto=webp&amp;fit=cover&amp;height=132&amp;width=88', 'https://www.metacritic.com/a/img/resize/113a938f0579e7c3ade911570c1c64eb93b35769/catalog/provider/2/2/2-406e01656e4000dcff056ae7d7d76f85.jpg?auto=webp&amp;fit=cover&amp;height=132&amp;width=88', 'https://www.metacritic.com/a/img/resize/3b8547e1a3f0027c251fd36d1d81c94e348b8fab/catalog/provider/2/2/2-0c941d94094e199ac0c37ef3722eedfd.jpg?auto=webp&amp;fit=cover&amp;height=132&amp;width=88', 'https://www.metacritic.com/a/img/resize/18e43bb521afbb8d18da0fa8596fdb7e6fa6cbe8/catalog/provider/2/2/2-ce431148b92b3f6a790daeb07f50ad28.jpg?auto=webp&amp;fit=cover&amp;height=132&amp;width=88', 'https://www.metacritic.com/a/img/resize/9a2de71193e696e572a2863f49fbfe8f322646d6/catalog/provider/2/2/2-6511c277ed76c9c9376f88a83c1d6a0c.jpg?auto=webp&amp;fit=cover&amp;height=132&amp;width=88', 'https://www.metacritic.com/a/img/resize/a67098c6b6585da7a2457149797dff559cda3f46/catalog/provider/2/2/2-1e5c9179316dfc13d3f721626a0a7484.jpg?auto=webp&amp;fit=cover&amp;height=132&amp;width=88', 'https://www.metacritic.com/a/img/resize/253eb44956b39caf4d4cac217b02ecbe765610ff/catalog/provider/2/13/2-c7a73f6c873617a7894f8e317b48d8ce.jpg?auto=webp&amp;fit=cover&amp;height=132&amp;width=88', 'https://www.metacritic.com/a/img/resize/f72980f3cf6bc190e918b2f11ef3165ede5ffb47/catalog/provider/2/2/2-c74181d7646f5dcf36a9aae7fec0596a.jpg?auto=webp&amp;fit=cover&amp;height=132&amp;width=88', 'https://www.metacritic.com/a/img/resize/ce1db8546859caa046bd900a6391a40b7e249bd1/catalog/provider/2/2/2-948b970bfe29b4eebaf6ac3ab33ccd40.jpg?auto=webp&amp;fit=cover&amp;height=132&amp;width=88', 'https://www.metacritic.com/a/img/resize/a54d9d81d67d22ae976f5e0a1c067bcd7ac153dc/catalog/provider/2/2/2-1422ebc36f404b12b9a728244879fdf8.jpg?auto=webp&amp;fit=cover&amp;height=132&amp;width=88', 'https://www.metacritic.com/a/img/resize/acf611192a393791461a11d3cedb78c7e20cd583/catalog/provider/2/2/2-4d8d3569c17483eee8309737cf18c5c9.jpg?auto=webp&amp;fit=cover&amp;height=132&amp;width=88', 'https://www.metacritic.com/a/img/resize/e385eedcb16e8b086ab189f7eeeefcebac9fe953/catalog/provider/2/2/2-a146cad0151279589c291e35484262e7.jpg?auto=webp&amp;fit=cover&amp;height=132&amp;width=88', 'https://www.metacritic.com/a/img/resize/c32c1d4879eaa23f2de2db4b169096beb939c624/catalog/provider/2/2/2-220edb4238d021d32b93611dd171815b.jpg?auto=webp&amp;fit=cover&amp;height=132&amp;width=88', 'https://www.metacritic.com/a/img/resize/09f2e0c646a16dbd93bb91a24ee4f42355cb645d/catalog/provider/2/2/2-bccd161aa010e6ce7babce9c30bf8c34.jpg?auto=webp&amp;fit=cover&amp;height=132&amp;width=88', 'https://www.metacritic.com/a/img/resize/7f09465cade1f501d6ce4b09c0704e406768a9b6/catalog/provider/2/2/2-b9e292f79f3da58b39a50fff03a00975.jpg?auto=webp&amp;fit=cover&amp;height=132&amp;width=88', 'https://www.metacritic.com/a/img/resize/bb91156100d818e0f3daa71a8c91f4306d172c78/catalog/provider/2/2/2-20047343a6d3cc0b17e3df804becbbd1.jpg?auto=webp&amp;fit=cover&amp;height=132&amp;width=88', 'https://www.metacritic.com/a/img/resize/d74a252daaef25b2cbf2f1204bbdbea6e6e7732f/catalog/provider/2/2/2-80f4f7d64ab1bb39102b66dae4718460.jpg?auto=webp&amp;fit=cover&amp;height=132&amp;width=88'].\n"
     ]
    }
   ],
   "source": [
    "print(f\"Found {len(results_Title)} matches: '{results_Title}'.\")\n",
    "print(f\"Found {len(results_RelDate)} matches: {results_RelDate}.\")\n",
    "print(f\"Found {len(results_Metacritic)} matches: {results_Metacritic}.\")\n",
    "print(f\"Found {len(results_summary)} matches: {results_summary}.\")\n",
    "print(f\"Found {len(movieThumbnail_results)} matches: {movieThumbnail_results}.\")\n"
   ]
  },
  {
   "attachments": {},
   "cell_type": "markdown",
   "metadata": {},
   "source": [
    "Adding the objects as columns to table"
   ]
  },
  {
   "cell_type": "code",
   "execution_count": 317,
   "metadata": {},
   "outputs": [
    {
     "data": {
      "text/html": [
       "<table border=\"1\" class=\"dataframe\">\n",
       "  <thead>\n",
       "    <tr style=\"text-align: right;\">\n",
       "      <th></th>\n",
       "      <th>Movie Title</th>\n",
       "      <th>Release Date</th>\n",
       "      <th>Metascore</th>\n",
       "      <th>Thumbnail URL</th>\n",
       "      <th>Description</th>\n",
       "    </tr>\n",
       "  </thead>\n",
       "  <tbody>\n",
       "    <tr>\n",
       "      <th>0</th>\n",
       "      <td>4 Months, 3 Weeks and 2 Days</td>\n",
       "      <td>Jan 23, 2008</td>\n",
       "      <td>97</td>\n",
       "      <td>https://www.metacritic.com/a/img/resize/3884dc40fc69a72e0f15b2308fa3446966c3978a/catalog/provider/2/2/2-808bb3acc87fc9a62e456c127fc1b970.jpg?auto=webp&amp;fit=cover&amp;height=132&amp;width=88</td>\n",
       "      <td>During the final days of communism in Romania, two college roommates Otilia and Gabita are busy preparing for a night away. But rather than planning for a holiday, they are making arrangements for Gabita's illegal abortion and unwittingly, both find themselves burrowing deep down a rabbit hole of unexpected revelations. [IFC Films]</td>\n",
       "    </tr>\n",
       "    <tr>\n",
       "      <th>1</th>\n",
       "      <td>Ratatouille</td>\n",
       "      <td>Jun 29, 2007</td>\n",
       "      <td>96</td>\n",
       "      <td>https://www.metacritic.com/a/img/resize/6c04d981f26ed64c943d092db34241df224abcc1/catalog/provider/2/2/2-78b6365b44df63a53040c98f9d53a82c.jpg?auto=webp&amp;fit=cover&amp;height=132&amp;width=88</td>\n",
       "      <td>Despite his sensational sniffer and sophisticated palate, Remy's dreams of becoming a chef seem hopeless due to one small detail--he's a rat! Through a twist of fate, he ends up in the world-famous restaurant of his late hero, Auguste Gusteau. With a dash of culinary courage and the help of garbage boy Linguini, Remy whips up exquisite meals that impress even the nasty chef Skinner and food critic Anton Ego. Together they conquer the kitchen and prove that big dreams can come true no matter how small you are. [Disney]</td>\n",
       "    </tr>\n",
       "    <tr>\n",
       "      <th>2</th>\n",
       "      <td>There Will Be Blood</td>\n",
       "      <td>Dec 26, 2007</td>\n",
       "      <td>93</td>\n",
       "      <td>https://www.metacritic.com/a/img/resize/06029d095c89349bbc5af8b0a77e3359b4ba3698/catalog/provider/2/2/2-bdf7fb8e5ac4e17a76ebda5bca6b35f0.jpg?auto=webp&amp;fit=cover&amp;height=132&amp;width=88</td>\n",
       "      <td>When Daniel Plainview gets a mysterious tip-off that there's a little town out West where an ocean of oil is oozing out of the ground, he heads there with his son, H.W., to take their chances in dust-worn Little Boston. In this hardscrabble town, where the main excitement centers around the Holy Roller church of charismatic preacher Eli Sunday, Plainview and H.W. make their lucky strike. But even as the well raises all of their fortunes, nothing will remain the same as conflicts escalate and every human value—love, hope, community, belief, ambition, and even the bond between father and son—is imperiled by corruption, deception, and the flow of oil. [Paramount Vantage]</td>\n",
       "    </tr>\n",
       "    <tr>\n",
       "      <th>3</th>\n",
       "      <td>The Diving Bell and the Butterfly</td>\n",
       "      <td>Nov 30, 2007</td>\n",
       "      <td>92</td>\n",
       "      <td>https://www.metacritic.com/a/img/resize/838ec9829d7972972e60eb2d4404340247613620/catalog/provider/2/2/2-4f84e5b70fbd841411ea12dbad206ee5.jpg?auto=webp&amp;fit=cover&amp;height=132&amp;width=88</td>\n",
       "      <td>The Diving Bell and the Butterfly is the remarkable true story of Jean-Dominique Bauby, a successful and charismatic editor-in-chief of French Elle, who believes he is living his life to its absolute fullest when a sudden stroke leaves him in a life-altered state. While the physical challenges of Bauby's fate leave him with little hope for the future, he begins to discover how his life's passions, his rich memories and his newfound imagination can help him achieve a life without boundaries. (Miramax Film)</td>\n",
       "    </tr>\n",
       "    <tr>\n",
       "      <th>4</th>\n",
       "      <td>No Country for Old Men</td>\n",
       "      <td>Nov 9, 2007</td>\n",
       "      <td>92</td>\n",
       "      <td>https://www.metacritic.com/a/img/resize/46cd3a2ebdcbfdf991e3680c7e5a318072cc41b8/catalog/provider/2/2/2-c4cacf62ab607e16c6d8df538b53d40a.jpg?auto=webp&amp;fit=cover&amp;height=132&amp;width=88</td>\n",
       "      <td>The time is our own, when rustlers have given way to drug runners and small towns have become free-fire zones. The story begins when Llewelyn Moss finds a pickup truck surrounded by a sentry of dead men. A load of heroin and 2 million dollars in cash are still in the back. When Moss takes the money, he sets off a chain reaction of catastrophic violence that not even the law, in the person of aging, disillusioned Sheriff Bell, can contain. As Moss tries to evade his pursuers--in particular, a mysterious mastermind who flips coins for human lives--the film simultaneously strips down the American crime drama and broadens its concerns to encompass themes as ancient as the Bible and as bloodily contemporary as this morning's headline. (Miramax)</td>\n",
       "    </tr>\n",
       "    <tr>\n",
       "      <th>5</th>\n",
       "      <td>Once</td>\n",
       "      <td>May 16, 2007</td>\n",
       "      <td>90</td>\n",
       "      <td>https://www.metacritic.com/a/img/resize/ac3d3ba2cbabf9ccd3ce9851177ffeda16381f0e/catalog/provider/2/2/2-59fa3c957fcb7b1154a2edbb8876b509.jpg?auto=webp&amp;fit=cover&amp;height=132&amp;width=88</td>\n",
       "      <td>A modern day musical set on the streets of Dublin. Featuring Glen Hansard from the Irish band &quot;The Frames,&quot; the film tells the story of a street musician and a Czech immigrant during an eventful week as they write, rehearse and record songs that reveal their unique love story.  (Fox Searchlight)</td>\n",
       "    </tr>\n",
       "    <tr>\n",
       "      <th>6</th>\n",
       "      <td>Persepolis</td>\n",
       "      <td>Dec 25, 2007</td>\n",
       "      <td>90</td>\n",
       "      <td>https://www.metacritic.com/a/img/resize/b0e49105a2786515b3c1c95db35b59c2f969dc8f/catalog/provider/2/2/2-5b7347891c6b847f91b4c69ddd259adc.jpg?auto=webp&amp;fit=cover&amp;height=132&amp;width=88</td>\n",
       "      <td>Persepolis is the poignant story of a young girl in Iran during the Islamic Revolution. It is through the eyes of the precocious and outspoken 9-year-old Marjane that we see a people's hopes dashed as fundamentalists take power--forcing the veil on women and imprisoning thousands. Clever and fearless, Marjane outsmarts the &quot;social guardians&quot; and discovers punk, ABBA, and Iron Maiden. Yet when her uncle is senselessly executed and as bombs fall around Tehran in the Iran/Iraq war, the daily fear that permeates life in Iran is palpable. [Sony Classics]</td>\n",
       "    </tr>\n",
       "    <tr>\n",
       "      <th>7</th>\n",
       "      <td>No End in Sight</td>\n",
       "      <td>Jul 27, 2007</td>\n",
       "      <td>89</td>\n",
       "      <td>https://www.metacritic.com/a/img/resize/4da0c47fdca1cc157d26e6b627b0ee19e572208e/catalog/provider/2/2/2-f061dd07b8b9cc816755111d926c3871.jpg?auto=webp&amp;fit=cover&amp;height=132&amp;width=88</td>\n",
       "      <td>The first film of its kind to chronicle the reasons behind Iraq’s descent into guerrilla war, warlord rule, criminality and anarchy, No End in Sight is a jaw-dropping, insider’s tale of wholesale incompetence, recklessness and venality. Based on over 200 hours of footage, the film provides a candid retelling of the events following the fall of Baghdad in 2003 by high ranking officials such as former Deputy Secretary of State Richard Armitage, Ambassador Barbara Bodine (in charge of Baghdad during the Spring of 2003), Colonel Lawrence Wilkerson, former Chief of Staff to Colin Powell, and General Jay Garner (in charge of the occupation of Iraq through May 2003), as well as Iraqi civilians, American soldiers and prominent analysts. No End in Sight examines the manner in which the principal errors of U.S. policy – the use of insufficient troop levels, allowing the looting of Baghdad, the purging of professionals from the Iraqi government and the disbanding of the Iraqi military – largely created the insurgency and chaos that engulf Iraq today. (Magnolia Pictures)</td>\n",
       "    </tr>\n",
       "    <tr>\n",
       "      <th>8</th>\n",
       "      <td>Flight of the Red Balloon</td>\n",
       "      <td>Apr 4, 2008</td>\n",
       "      <td>86</td>\n",
       "      <td>https://www.metacritic.com/a/img/resize/113a938f0579e7c3ade911570c1c64eb93b35769/catalog/provider/2/2/2-406e01656e4000dcff056ae7d7d76f85.jpg?auto=webp&amp;fit=cover&amp;height=132&amp;width=88</td>\n",
       "      <td>A highlight at the 2007 Cannes, Toronto, and New York film festivals, Flight of the Red Balloon is the latest masterpiece from Hou Hsiao Hsien. Inspired by Albert Lamorisse's 1956 Academy Award-winning classic, Flight of the Red Balloon, Hou expands on that film's key elements--a young boy, a red balloon, and Paris--to weave an achingly beautiful tale about the mysteries of familial bonds and the lingering effects the past has on us all. Simon, a precocious young boy, must deal with the increasing fragility of his mother, the loving yet preoccupied Suzanne. Completely immersed in her own tribulations, Suzanne hires Song, a Taiwanese film student, to help care for Simon. Together with Song, a unique extended family is formed, utterly interdependent yet lost in separate thoughts and dreams mirrored by a delicate, shiny red balloon. (IFC First Take)</td>\n",
       "    </tr>\n",
       "    <tr>\n",
       "      <th>9</th>\n",
       "      <td>Before the Devil Knows You're Dead</td>\n",
       "      <td>Oct 26, 2007</td>\n",
       "      <td>86</td>\n",
       "      <td>https://www.metacritic.com/a/img/resize/3b8547e1a3f0027c251fd36d1d81c94e348b8fab/catalog/provider/2/2/2-0c941d94094e199ac0c37ef3722eedfd.jpg?auto=webp&amp;fit=cover&amp;height=132&amp;width=88</td>\n",
       "      <td>Andy, an overextended broker, lures his younger brother--Hank--into a larcenous scheme: the pair will rob a suburban mom-and-pop jewelry store that appears to be the quintessential easy target. The problem is, the store owners are Andy and Hank's actual mom and pop--and--when the seemingly perfect crime goes awry, the damage lands right at their doorstep. (THINKFilm)</td>\n",
       "    </tr>\n",
       "    <tr>\n",
       "      <th>10</th>\n",
       "      <td>Alexandra</td>\n",
       "      <td>Mar 26, 2008</td>\n",
       "      <td>85</td>\n",
       "      <td>https://www.metacritic.com/a/img/resize/18e43bb521afbb8d18da0fa8596fdb7e6fa6cbe8/catalog/provider/2/2/2-ce431148b92b3f6a790daeb07f50ad28.jpg?auto=webp&amp;fit=cover&amp;height=132&amp;width=88</td>\n",
       "      <td>In a desolate, sun-scorched corner of the world, an elderly woman has come to see her beloved grandson, a young officer stationed at a remote military outpost. With the enemy just beyond the compound, she wanders the barracks, observing the routine of military life, before making a sudden trip to the outlying countryside. (The Cinema Guild)</td>\n",
       "    </tr>\n",
       "    <tr>\n",
       "      <th>11</th>\n",
       "      <td>All Is Forgiven (2007)</td>\n",
       "      <td>Nov 5, 2021</td>\n",
       "      <td>85</td>\n",
       "      <td>https://www.metacritic.com/a/img/resize/9a2de71193e696e572a2863f49fbfe8f322646d6/catalog/provider/2/2/2-6511c277ed76c9c9376f88a83c1d6a0c.jpg?auto=webp&amp;fit=cover&amp;height=132&amp;width=88</td>\n",
       "      <td>In Vienna, 1995, we meet writer and covert heroin addict Victor (Paul Blain); his partner, Annette (Marie-Christine Friedrich); and their young daughter, Pamela (Victoire Rousseau). After capturing this family unit on the verge of crisis in cutting, incisive scenes that track the signs of domestic and personal breakdown as they surface in everyday life, Hansen-Løve audaciously leaps across the span of eleven years with a single title card, shifting the film’s focus to a now-adolescent Pamela (Constance Rousseau), living in Paris, as she attempts to sift through the wreckage of her parents’ relationship and mend fences with her long-absent father. [Metrograph]</td>\n",
       "    </tr>\n",
       "    <tr>\n",
       "      <th>12</th>\n",
       "      <td>Knocked Up</td>\n",
       "      <td>Jun 1, 2007</td>\n",
       "      <td>85</td>\n",
       "      <td>https://www.metacritic.com/a/img/resize/a67098c6b6585da7a2457149797dff559cda3f46/catalog/provider/2/2/2-1e5c9179316dfc13d3f721626a0a7484.jpg?auto=webp&amp;fit=cover&amp;height=132&amp;width=88</td>\n",
       "      <td>In this film about a one-night stand with unexpected consequences.  Judd Apatow takes comic look at the best thing that will ever ruin your best-laid plans: parenthood.  (Universal)</td>\n",
       "    </tr>\n",
       "    <tr>\n",
       "      <th>13</th>\n",
       "      <td>Forbidden Lie$</td>\n",
       "      <td>Apr 3, 2009</td>\n",
       "      <td>85</td>\n",
       "      <td>https://www.metacritic.com/a/img/resize/253eb44956b39caf4d4cac217b02ecbe765610ff/catalog/provider/2/13/2-c7a73f6c873617a7894f8e317b48d8ce.jpg?auto=webp&amp;fit=cover&amp;height=132&amp;width=88</td>\n",
       "      <td>Norma Khouri is a thief, a saint, a seductress or a sociopath, depending on who you talk to. Men want to marry her, Islamic extremists want to kill her, and the global publishing industry wishes she would just disappear. Khouri won fame and fortune with her 'true story' Forbidden Love, about a shocking honor killing in Jordan. The book was a runaway bestseller, translated into multiple languages and Khouri became the toast of the literary world. That was until July 2004, when esteemed Sydney Morning Herald journalist Malcolm Knox exposed her book as a work of fiction. Weaving between the literary salons of London, the mosque-lined vistas of Jordan, the beach side suburbs of Queensland and the seamy Chicago back streets of Norma's dubious past, Forbidden Lie$ pits Norma's tale against the stories of the those who believe she duped them: the publishers, the FBI, her next door neighbor...even her husband. But the most compelling character of all is Norma who, encouraged by director Anna Broinowski, journeys through every shade of gray that separates fact from fiction. Dir. Anna Broinowski. (Roxie Releasing)</td>\n",
       "    </tr>\n",
       "    <tr>\n",
       "      <th>14</th>\n",
       "      <td>The Savages</td>\n",
       "      <td>Nov 28, 2007</td>\n",
       "      <td>85</td>\n",
       "      <td>https://www.metacritic.com/a/img/resize/f72980f3cf6bc190e918b2f11ef3165ede5ffb47/catalog/provider/2/2/2-c74181d7646f5dcf36a9aae7fec0596a.jpg?auto=webp&amp;fit=cover&amp;height=132&amp;width=88</td>\n",
       "      <td>The Savages is an irreverent look at family, love and mortality as seen through the lens of one of modern life’s most bewildering and challenging experiences: when adult siblings find themselves plucked from their everyday, self-centered lives to care for an estranged elderly parent. (Fox Searchlight)</td>\n",
       "    </tr>\n",
       "    <tr>\n",
       "      <th>15</th>\n",
       "      <td>Atonement</td>\n",
       "      <td>Dec 7, 2007</td>\n",
       "      <td>85</td>\n",
       "      <td>https://www.metacritic.com/a/img/resize/ce1db8546859caa046bd900a6391a40b7e249bd1/catalog/provider/2/2/2-948b970bfe29b4eebaf6ac3ab33ccd40.jpg?auto=webp&amp;fit=cover&amp;height=132&amp;width=88</td>\n",
       "      <td>Atonement spans several decades. In 1935, 13-year-old fledgling writer Briony Tallis and her family live a life of wealth and privilege in their enormous mansion. On the warmest day of the year, the country estate takes on an unsettling hothouse atmosphere, stoking Briony's vivid imagination. Robbie Turner, the educated son of the family's housekeeper, carries a torch for Briony's headstrong older sister, Cecilia. Cecilia, he hopes, has comparable feelings; all it will take is one spark for this relationship to combust. When it does, Briony--who has a crush on Robbie--is compelled to interfere, going so far as to accuse Robbie of a crime he did not commit. Cecilia and Robbie declare their love for each other, but Robbie is arrested--and with Briony bearing false witness, the course of three lives is changed forever. Briony continues to seek forgiveness for her childhood misdeed. Through a terrible and courageous act of imagination, she finds the path to her uncertain atonement and to an understanding of the power of enduring love. (Focus Features)</td>\n",
       "    </tr>\n",
       "    <tr>\n",
       "      <th>16</th>\n",
       "      <td>The Edge of Heaven</td>\n",
       "      <td>May 21, 2008</td>\n",
       "      <td>85</td>\n",
       "      <td>https://www.metacritic.com/a/img/resize/a54d9d81d67d22ae976f5e0a1c067bcd7ac153dc/catalog/provider/2/2/2-1422ebc36f404b12b9a728244879fdf8.jpg?auto=webp&amp;fit=cover&amp;height=132&amp;width=88</td>\n",
       "      <td>Nejat initially disapproves of his widower father Ali`s choice of prostitute Yeter for a live-in girlfriend. But the young professor warms to her when he learns that most of her hard-earned money is sent home to Turkey for her daughter’s university studies. After Yeter`s accidental death, Nejat travels to Istanbul to search for Yeter`s daughter Ayten. Political activist Ayten has fled the Turkish police and is already in Germany. She is befriended by a young woman, Lotte, who invites rebellious Ayten to stay in her home, much to the displeasure of her conservative mother, Susanne. When Ayten is arrested and her asylum plea denied, she is deported and imprisoned in Turkey. Passionate Lotte abandons everything to help Ayten. A tragic event brings Susanne to Istanbul to help fulfill her daughter`s mission. (Strand Releasing)\\r\\n</td>\n",
       "    </tr>\n",
       "    <tr>\n",
       "      <th>17</th>\n",
       "      <td>The Bourne Ultimatum</td>\n",
       "      <td>Aug 3, 2007</td>\n",
       "      <td>85</td>\n",
       "      <td>https://www.metacritic.com/a/img/resize/acf611192a393791461a11d3cedb78c7e20cd583/catalog/provider/2/2/2-4d8d3569c17483eee8309737cf18c5c9.jpg?auto=webp&amp;fit=cover&amp;height=132&amp;width=88</td>\n",
       "      <td>All he wanted was to disappear.  Instead, Jason Bourne is now hunted by the people who made him what he is. Having lost his memory and the one person he loved, he is undeterred by the barrage of bullets and a new generation of highly-trained killers.  Bourne has only one objective: to go back to the beginning and find out who he was. (Universal)</td>\n",
       "    </tr>\n",
       "    <tr>\n",
       "      <th>18</th>\n",
       "      <td>In the Shadow of the Moon</td>\n",
       "      <td>Sep 7, 2007</td>\n",
       "      <td>84</td>\n",
       "      <td>https://www.metacritic.com/a/img/resize/e385eedcb16e8b086ab189f7eeeefcebac9fe953/catalog/provider/2/2/2-a146cad0151279589c291e35484262e7.jpg?auto=webp&amp;fit=cover&amp;height=132&amp;width=88</td>\n",
       "      <td>Between 1968 and 1972, nine American spacecrafts voyaged to the Moon, and 12 men walked upon its surface. They remain the only human beings to have stood on another world. In the Shadow of the Moon brings together for the first--and possibly the last--time the surviving crew members from every single Apollo mission that flew to the Moon, and allows them to tell their story in their own words. This riveting first-hand testimony is interwoven with visually stunning archival material that has been remastered from the original NASA film footage--much of it never used before. The result is an intimate epic that vividly communicates the daring, the danger, the pride, and the promise of this extraordinary era in history, when the whole world literally looked up at America. (THINKFilm)</td>\n",
       "    </tr>\n",
       "    <tr>\n",
       "      <th>19</th>\n",
       "      <td>Up the Yangtze</td>\n",
       "      <td>Apr 25, 2008</td>\n",
       "      <td>84</td>\n",
       "      <td>https://www.metacritic.com/a/img/resize/c32c1d4879eaa23f2de2db4b169096beb939c624/catalog/provider/2/2/2-220edb4238d021d32b93611dd171815b.jpg?auto=webp&amp;fit=cover&amp;height=132&amp;width=88</td>\n",
       "      <td>In China, it is simply known as 'The River.' But the Yangtze—and all of the life that surrounds it—is undergoing an astonishing transformation wrought by the largest hydroelectric project in history, the Three Gorges Dam. Chinese-Canadian director Yung Chang returns to the gorgeous, now-disappearing landscape of his grandfather’s youth to trace the surreal life of a “farewell cruise” that traverses the gargantuan waterway. With a humanist gaze and wry wit Chang’s Upstairs Downstairs approach captures the microcosmic society of the luxury liner. Below deck: a bewildered young girl trains as a dishwasher sent to work by her peasant family, who is on the verge of relocation from the encroaching floodwaters. Above deck: wealthy international tourists set sail to catch a last glance of a country in dramatic flux. The teenage employees who serve and entertain them—tagged with new Westernized names like “Cindy” and “Jerry” by upper management—warily grasp at the prospect of a better future. &quot;Up the Yangtze&quot; gives a human dimension to the wrenching changes facing not only an increasingly globalized China, but the world at large. (Zeitgeist Films)</td>\n",
       "    </tr>\n",
       "    <tr>\n",
       "      <th>20</th>\n",
       "      <td>Paranoid Park</td>\n",
       "      <td>Mar 7, 2008</td>\n",
       "      <td>84</td>\n",
       "      <td>https://www.metacritic.com/a/img/resize/09f2e0c646a16dbd93bb91a24ee4f42355cb645d/catalog/provider/2/2/2-bccd161aa010e6ce7babce9c30bf8c34.jpg?auto=webp&amp;fit=cover&amp;height=132&amp;width=88</td>\n",
       "      <td>An unsolved murder at Portland's infamous Paranoid Park brings detectives to a local high school, propelling a young skater into a moral odyssey in which he must not only deal with the pain and disconnect of adolescence but also the consequences of his own actions. As director of &quot;My Own Private Idaho&quot;, &quot;Good Will Hunting&quot;, &quot;To Die For&quot;, and &quot;Elephant&quot;, Gus Van Sant has created some of the most memorable works about youth ever committed to film. At the 2007 Cannes Film Festival, he was awarded the 60th Anniversary Prize for Paranoid Park, which is largely considered one of his finest films. (IFC First Take)</td>\n",
       "    </tr>\n",
       "    <tr>\n",
       "      <th>21</th>\n",
       "      <td>My Winnipeg</td>\n",
       "      <td>Jun 13, 2008</td>\n",
       "      <td>84</td>\n",
       "      <td>https://www.metacritic.com/a/img/resize/7f09465cade1f501d6ce4b09c0704e406768a9b6/catalog/provider/2/2/2-b9e292f79f3da58b39a50fff03a00975.jpg?auto=webp&amp;fit=cover&amp;height=132&amp;width=88</td>\n",
       "      <td>Have you ever wanted to relive your childhood and do things differently? Guy Maddin casts B-movie icon Ann Savage as his domineering mother in attempt to answer that question in My Winnipeg, a hilariously wacky and profoundly touching goodbye letter to his childhood hometown. A documentary (or &quot;docu-fantasia&quot; as Maddin proclaims) that inventively blends local and personal history with surrealist images and metaphorical myths, the film covers everything from the fire at the local park which lead to a frozen lake of distressed horse heads to pivotal and factually heightened scenes from Maddin's own childhood, all laced with a startling emotional honesty. My Winnipeg is Maddin's most personal film and a truly unique cinematic experience, winning the best Canadian film at the Toronto International Film Festival and the opening night selection of the Berlin Film Festival's Forum. [IFC Films]</td>\n",
       "    </tr>\n",
       "    <tr>\n",
       "      <th>22</th>\n",
       "      <td>Secret Sunshine</td>\n",
       "      <td>Dec 22, 2010</td>\n",
       "      <td>84</td>\n",
       "      <td>https://www.metacritic.com/a/img/resize/bb91156100d818e0f3daa71a8c91f4306d172c78/catalog/provider/2/2/2-20047343a6d3cc0b17e3df804becbbd1.jpg?auto=webp&amp;fit=cover&amp;height=132&amp;width=88</td>\n",
       "      <td>Sin-ae moves with her son Jun to Miryang, the town where her dead husband was born. As she tries to come to herself and set out on new foundations, another tragic event overturns her life. (IFC Films)</td>\n",
       "    </tr>\n",
       "    <tr>\n",
       "      <th>23</th>\n",
       "      <td>U2 3D</td>\n",
       "      <td>Jan 23, 2008</td>\n",
       "      <td>83</td>\n",
       "      <td>https://www.metacritic.com/a/img/resize/d74a252daaef25b2cbf2f1204bbdbea6e6e7732f/catalog/provider/2/2/2-80f4f7d64ab1bb39102b66dae4718460.jpg?auto=webp&amp;fit=cover&amp;height=132&amp;width=88</td>\n",
       "      <td>U2 3D transforms a series of live concerts by one of the world's most acclaimed bands into a completely new entertainment experience that takes viewers on an extraordinary cinematic journey, a quantum leap beyond traditional concert films and traditional 3-D.\\r\\nU2 3D captivated an international audience as a work-in-progress during the 2007 Cannes Film Festival. (National Geographic Cinema Ventures)</td>\n",
       "    </tr>\n",
       "  </tbody>\n",
       "</table>"
      ],
      "text/plain": [
       "<IPython.core.display.HTML object>"
      ]
     },
     "execution_count": 317,
     "metadata": {},
     "output_type": "execute_result"
    }
   ],
   "source": [
    "dataset = {\n",
    "         \"Movie Title\": results_Title,\n",
    "         \"Release Date\": results_RelDate,\n",
    "         \"Metascore\": results_Metacritic,\n",
    "         \"Thumbnail URL\": movieThumbnail_results,\n",
    "         \"Description\": results_summary\n",
    "\n",
    "           }\n",
    "dataframe= pd.DataFrame(dataset)\n",
    "\n",
    "def path_to_image_html(path: str):\n",
    "   return f\"<img src=\\\"{path}\\\" width=\\\"88\\\" />\"\n",
    "\n",
    "formatters = dict(Thumbnail = path_to_image_html)\n",
    "html = dataframe.to_html(escape = False, formatters = formatters)\n",
    "HTML(html)"
   ]
  }
 ],
 "metadata": {
  "kernelspec": {
   "display_name": "Python 3",
   "language": "python",
   "name": "python3"
  },
  "language_info": {
   "codemirror_mode": {
    "name": "ipython",
    "version": 3
   },
   "file_extension": ".py",
   "mimetype": "text/x-python",
   "name": "python",
   "nbconvert_exporter": "python",
   "pygments_lexer": "ipython3",
   "version": "3.11.3"
  },
  "orig_nbformat": 4
 },
 "nbformat": 4,
 "nbformat_minor": 2
}
