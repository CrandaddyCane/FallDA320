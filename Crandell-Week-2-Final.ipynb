{
 "cells": [
  {
   "attachments": {},
   "cell_type": "markdown",
   "metadata": {},
   "source": [
    "1. Action: Import Libraries\n",
    "     Goal: Increase access to functions, automation processes, cleanliness"
   ]
  },
  {
   "cell_type": "code",
   "execution_count": 9,
   "metadata": {},
   "outputs": [],
   "source": [
    "import urllib3      #import library that safely connects Python to internet.\n",
    "import certifi      #import library that tells Firefox's high secrurity that we're good.\n",
    "import re           #import library that allows Python to easily read Regex.\n",
    "import pandas as pd #import Pandas library\n",
    "from IPython.core.display import HTML\n"
   ]
  },
  {
   "attachments": {},
   "cell_type": "markdown",
   "metadata": {},
   "source": [
    "2. Construct an HTTP Request Pool to expedite page fetching"
   ]
  },
  {
   "cell_type": "code",
   "execution_count": 10,
   "metadata": {},
   "outputs": [],
   "source": [
    "http = urllib3.PoolManager(ca_certs=certifi.where()) "
   ]
  },
  {
   "attachments": {},
   "cell_type": "markdown",
   "metadata": {},
   "source": [
    "3. URL of Web Scrap"
   ]
  },
  {
   "cell_type": "code",
   "execution_count": 11,
   "metadata": {},
   "outputs": [],
   "source": [
    "link = \"https://www.metacritic.com/browse/movie/all/all/2004/metascore/?page=1\"\n",
    "#year = 2004\n",
    "#link = f\"https://www.metacritic.com/browse/movie/?releaseYearMin={year}&releaseYearMax={year}&page=1\""
   ]
  },
  {
   "attachments": {},
   "cell_type": "markdown",
   "metadata": {},
   "source": [
    "4. Initiation of Web Request"
   ]
  },
  {
   "cell_type": "code",
   "execution_count": 12,
   "metadata": {},
   "outputs": [],
   "source": [
    "r = http.request('GET', link, headers={'User-Agent': 'Mozilla/5.0'})"
   ]
  },
  {
   "attachments": {},
   "cell_type": "markdown",
   "metadata": {},
   "source": [
    "5. Convert the Request's results from Bytes to Text (UTF-8)"
   ]
  },
  {
   "cell_type": "code",
   "execution_count": 13,
   "metadata": {},
   "outputs": [],
   "source": [
    "datastring =str(r.data, \"utf-8\")"
   ]
  },
  {
   "attachments": {},
   "cell_type": "markdown",
   "metadata": {},
   "source": [
    "6. Use Regex to find data fields, then save that field as an array"
   ]
  },
  {
   "cell_type": "code",
   "execution_count": 14,
   "metadata": {},
   "outputs": [],
   "source": [
    "# Movie Name\n",
    "movieTitle = r'<div data-title=\"(.*?)\"'\n",
    "results_Title = re.findall(movieTitle, datastring)\n",
    "\n",
    "# Release Date\n",
    "releaseDate = r'u-text-uppercase\\\">\\s+(.*)'\n",
    "results_RelDate = re.findall(releaseDate, datastring) \n",
    "\n",
    "# Metacritic Score\n",
    "metacriticScore = r'<div title=\"Metascore (.*?) out of 100\"'\n",
    "results_Metacritic = re.findall(metacriticScore, datastring)\n",
    "\n",
    "# Movie Description\n",
    "movieSummary = r'<div class=\"c-finderProductCard_description\"><span>([^<]*)<'\n",
    "results_summary = re.findall(movieSummary, datastring) \n",
    "\n",
    "# Movie Thumbail\n",
    "movieThumbnail = r'<img src=\"(.*?\\d)\" h'\n",
    "movieThumbnail_results = re.findall(movieThumbnail, datastring)\n"
   ]
  },
  {
   "attachments": {},
   "cell_type": "markdown",
   "metadata": {},
   "source": [
    "7. Print confirmation of each field"
   ]
  },
  {
   "cell_type": "code",
   "execution_count": 15,
   "metadata": {},
   "outputs": [
    {
     "name": "stdout",
     "output_type": "stream",
     "text": [
      "Found 24 matches: '['Best Kept Secret', 'Boyhood', 'Moonlight', \"Pan's Labyrinth\", 'Here', '4 Months, 3 Weeks and 2 Days', 'King in the Wilderness', 'Quo Vadis, Aida?', 'Ratatouille', 'Gravity', '12 Years a Slave', 'Roma', 'Parasite', 'Summer of Soul (...Or, When the Revolution Could Not Be Televised)', 'Manchester by the Sea', 'WALL-E', 'The Social Network', 'Amour', 'The Hurt Locker', 'A Separation', 'Rocks', 'Virunga', 'I Am Not Your Negro', 'Portrait of a Lady on Fire']'.\n",
      "Found 23 matches: ['Sep 6, 2013', 'Jul 11, 2014', 'Oct 21, 2016', 'Dec 29, 2006', 'Jan 23, 2008', 'Mar 30, 2018', 'Mar 5, 2021', 'Jun 29, 2007', 'Oct 4, 2013', 'Oct 18, 2013', 'Nov 21, 2018', 'Oct 11, 2019', 'Jul 2, 2021', 'Nov 18, 2016', 'Jun 27, 2008', 'Oct 1, 2010', 'Dec 19, 2012', 'Jun 26, 2009', 'Dec 30, 2011', 'Feb 1, 2021', 'Nov 7, 2014', 'Dec 9, 2016', 'Dec 6, 2019'].\n",
      "Found 24 matches: ['100', '100', '99', '98', '98', '97', '97', '97', '96', '96', '96', '96', '96', '96', '96', '95', '95', '95', '95', '95', '95', '95', '95', '95'].\n",
      "Found 24 matches: ['JFK High School, located in the midst of a run-down area in Newark, New Jersey, is a public school for all types of students with special education needs, ranging from those on the autism spectrum to those with multiple disabilities. Janet Mino has taught her class of young men with autism for four years. When they all graduate in the spring of 2012, they will leave the security of the public school system forever. Best Kept Secret follows Ms. Mino and her students over the year and a half before graduation. The clock is ticking to find them a place in the adult world &amp;acirc;', \"Filmed over 12 years with the same cast, Richard Linklater's Boyhood is a groundbreaking story of growing up as seen through the eyes of a child named Mason (Ellar Coltrane), who literally grows up on screen before our eyes. Starring Ethan Hawke and Patricia Arquette as Mason's parents and newcomer Lorelei Linklater as his sister Samantha, Boyhood charts the rocky terrain of childhood like no other film has before and is both a nostalgic time capsule of the recent past and an ode to growing up and parenting. [IFC Films]\", 'Moonlight is the tender, heartbreaking story of a young man’s struggle to find himself, told across three defining chapters in his life as he experiences the ecstasy, pain, and beauty of falling in love, while grappling with his own sexuality.', 'Following a bloody civil war, young Ofelia enters a world of unimaginable cruelty when she moves in with her new stepfather, a tyrannical military officer. Armed with only her imagination, Ofelia discovers a mysterious labyrinth and meets a faun who sets her on a path to saving herself and her ailing mother. But soon, the lines between fantasy and reality begin to blur, and before Ofelia can turn back, she finds herself at the center of a ferocious battle between good and evil. [Warner Bros.]', 'Stefan, a Romanian construction worker living in Brussels, is about to return home to visit his mother, and maybe stay...longer. Using the leftovers from his fridge, he cooks up a big pot of soup and begins handing it out as farewell gifts to friends and family. But while waiting for his car to be fixed, he meets Shuxiu, a Belgian-Chinese woman preparing a doctorate on mosses. Her attention to the near-invisible stops him in his tracks.', \"During the final days of communism in Romania, two college roommates Otilia and Gabita are busy preparing for a night away. But rather than planning for a holiday, they are making arrangements for Gabita's illegal abortion and unwittingly, both find themselves burrowing deep down a rabbit hole of unexpected revelations. [IFC Films]\", 'King in the Wilderness chronicles the final chapters of Dr. Martin Luther King Jr.’s life, revealing a conflicted leader who faced an onslaught of criticism from both sides of the political spectrum.', 'Bosnia, July 11th 1995.  Aida is a translator for the United Nations in the small town of Srebrenica. When the Serbian army takes over the town, her family is among the thousands of citizens looking for shelter in the UN camp. As an insider to the negotiations Aida has access to crucial information that she needs to interpret. What is at the horizon for her family and people - rescue or death? Which move should she take? [Super LTD]', \"Despite his sensational sniffer and sophisticated palate, Remy's dreams of becoming a chef seem hopeless due to one small detail--he's a rat! Through a twist of fate, he ends up in the world-famous restaurant of his late hero, Auguste Gusteau. With a dash of culinary courage and the help of garbage boy Linguini, Remy whips up exquisite meals that impress even the nasty chef Skinner and food critic Anton Ego. Together they conquer the kitchen and prove that big dreams can come true no matter how small you are. [Disney]\", 'Dr. Ryan Stone (Sandra Bullock) is a brilliant medical engineer on her first shuttle mission, with veteran astronaut Matt Kowalsky (George Clooney) in command of his last flight before retiring. But on a seemingly routine spacewalk, disaster strikes. The shuttle is destroyed, leaving Stone and Kowalsky completely alone - tethered to nothing but each other and spiraling out into the blackness. The deafening silence tells them they have lost any link to Earth - and any chance for rescue. As fear turns to panic, every gulp of air eats away at what little oxygen is left. But the only way home may be to go further out into the terrifying expanse of space.', 'In the pre-Civil War United States, Solomon Northup, a free black man living in upstate New York, is abducted and sold into slavery.', 'Roma follows Cleo (Yalitza Aparicio), a young domestic worker for a family in the middle-class neighborhood of Roma in Mexico City. Delivering an artful love letter to the women who raised him, Cuarón draws on his own childhood to create a vivid and emotional portrait of domestic strife and social hierarchy amidst political turmoil of the 1970s. [Netflix]', 'Meet the Park Family: the picture of aspirational wealth. And the Kim Family, rich in street smarts but not much else. Be it chance or fate, these two houses are brought together and the Kims sense a golden opportunity. Masterminded by college-aged Ki-woo, the Kim children expediently install themselves as tutor and art therapist, to the Parks. Soon, a symbiotic relationship forms between the two families. The Kims provide “indispensable” luxury services while the Parks obliviously bankroll their entire household. When a parasitic interloper threatens the Kims’ newfound comfort, a savage, underhanded battle for dominance breaks out, threatening to destroy the fragile ecosystem between the Kims and the Parks. [Neon]', 'In 1969, during the same summer as Woodstock, a different music festival took place 100 miles away. More than 300,000 people attended the summer concert series known as the Harlem Cultural Festival. It was filmed, but after that summer, the footage sat in a basement for 50 years. It has never been seen. Until now. [Sundance]', 'After the death of his older brother Joe (Kyle Chandler), Lee Chandler (Casey Affleck) is shocked to learn that Joe has made him sole guardian of his nephew Patrick (Lucas Hedges). Taking leave of his job, Lee reluctantly returns to Manchester-by-the-Sea to care for Patrick, a spirited 15-year-old, and is forced to deal with a past that separated him from his wife Randi (Michelle Williams) and the community where he was born and raised.   Bonded by the man who held their family together, Lee and Patrick struggle to adjust to a world without him.', 'After hundreds of lonely years of doing what he was built for, Wall-E discovers a new purpose in life when he meets a sleek search robot named EVE. [Walt Disney Pictures]', 'On a fall night in 2003, Harvard undergrad and computer programming genius Mark Zuckerberg (Jesse Eisenberg) sits down at his computer and heatedly begins working on a new idea. In a fury of blogging and programming, what begins in his dorm room soon becomes a global social network and a revolution in communication. A mere six years and 500 million friends later, Mark Zuckerberg is the youngest billionaire in history... but for this entrepreneur, success leads to both personal and legal complications. [Columbia Pictures]', \"Georges and Anne are in their eighties. They are cultivated, retired music teachers. Their daughter, who is also a musician, lives abroad with her family. One day, Anne has an attack. The couple's bond of love is severely tested. [Sony Pictures Classics]\", \"When a new sergeant, James (Jeremy Renner), takes over a highly trained bomb disposal team amidst violent conflict, he surprises his two subordinates, Sanborn (Anthony Mackie) and Eldridge (Brian Geraghty), by recklessly plunging them into a deadly game of urban combat. James behaves as if he's indifferent to death. As the men struggle to control their wild new leader, the city explodes into chaos, and James' true character reveals itself in a way that will change each man forever. [Summit Entertainment]\", \"Set in contemporary Iran, A Separation is a compelling drama about the dissolution of a marriage. Simin wants to leave Iran with her husband Nader and daughter Termeh. Simin sues for divorce when Nader refuses to leave behind his Alzheimer-suffering father. Her request having failed, Simin returns to her parents' home, but Termeh decides to stay with Nader. When Nader hires a young woman to assist with his father in his wife's absence, he hopes that his life will return to a normal state. However, when he discovers that the new maid has been lying to him, he realizes that there is more on the line than just his marriage. [Sony Pictures Classic]\\r\\n\\r\\n\", 'A teenage girl suddenly finds herself struggling to take care of herself and her younger brother.', \"In the forested depths of eastern Congo lies Virunga National Park, one of the most bio-diverse places in the world and home to the last of the mountain gorillas. In this wild, but enchanted environment, a small and embattled team of park rangers - including an ex-child soldier turned ranger, a carer of orphan gorillas and a Belgian conservationist - protect this UNESCO world heritage site from armed militia, poachers and the dark forces struggling to control Congo's rich natural resources. When the newly formed M23 rebel group declares war in May 2012, a new conflict threatens the lives and stability of everyone and everything they've worked so hard to protect.\", 'Director Raoul Peck envisions the book James Baldwin never finished - a radical narration about race in America, using the writer’s original words. He draws upon James Baldwin’s notes on the lives and assassinations of Medgar Evers, Malcolm X, and Martin Luther King Jr to explore and bring a fresh and radical perspective to the current racial narrative in America. [Magnolia Pictures]', \"France, 1760. Marianne is commissioned to paint the wedding portrait of Héloïse, a young woman who has just left the convent. Because she is a reluctant bride-to-be, Marianne arrives under the guise of companionship, observing Héloïse by day and secretly painting her by firelight at night. As the two women orbit one another, intimacy and attraction grow as they share Héloïse’s first moments of freedom. Héloïse's portrait soon becomes a collaborative act of and testament to their love.  \"].\n",
      "Found 24 matches: ['https://www.metacritic.com/a/img/resize/f8a02ffbbd853238e78fef13d18f7dff500d65e3/catalog/provider/2/2/2-2fb3b5dc0c517201c6701348c2ff60d7.jpg?auto=webp&amp;fit=cover&amp;height=132&amp;width=88', 'https://www.metacritic.com/a/img/resize/5e2347af172196e6c7076494b7e8ce26fd832f72/catalog/provider/2/2/2-e25db87c9adea62102834d1cc06d3705.jpg?auto=webp&amp;fit=cover&amp;height=132&amp;width=88', 'https://www.metacritic.com/a/img/resize/e6e39a40db538d5f0100e1d09d4c4a0723839d6c/catalog/provider/2/2/2-d8c1e3566ba713bc1a11d8bb54378aa3.jpg?auto=webp&amp;fit=cover&amp;height=132&amp;width=88', 'https://www.metacritic.com/a/img/resize/e0adc846acb3641107425322bfab96d0b76dc1d6/catalog/provider/2/2/2-89a55c670dbb2e65c56e0fa0675abf0e.jpg?auto=webp&amp;fit=cover&amp;height=132&amp;width=88', 'https://www.metacritic.com/a/img/resize/e248d3eb67f01d6021b7c032a483b10124481890/catalog/provider/5/2/5-tt26448954.jpg?auto=webp&amp;fit=cover&amp;height=132&amp;width=88', 'https://www.metacritic.com/a/img/resize/3884dc40fc69a72e0f15b2308fa3446966c3978a/catalog/provider/2/2/2-808bb3acc87fc9a62e456c127fc1b970.jpg?auto=webp&amp;fit=cover&amp;height=132&amp;width=88', 'https://www.metacritic.com/a/img/resize/ab55522df43a1e02c960dbfd839d9038f1b1cce7/catalog/provider/2/2/2-8821608635e0f268746a1eae72dbe169.jpg?auto=webp&amp;fit=cover&amp;height=132&amp;width=88', 'https://www.metacritic.com/a/img/resize/67f596420e44e7f6abe1ca872155f7c52c905fcb/catalog/provider/2/2/2-ce052d31ece8e28d24d4d09e62745b2a.jpg?auto=webp&amp;fit=cover&amp;height=132&amp;width=88', 'https://www.metacritic.com/a/img/resize/6c04d981f26ed64c943d092db34241df224abcc1/catalog/provider/2/2/2-78b6365b44df63a53040c98f9d53a82c.jpg?auto=webp&amp;fit=cover&amp;height=132&amp;width=88', 'https://www.metacritic.com/a/img/resize/3c6942a3a6cdfbc5911bab4f555305d76354f732/catalog/provider/2/2/2-e6df13361d920ca3d795ee38007bcd5f.jpg?auto=webp&amp;fit=cover&amp;height=132&amp;width=88', 'https://www.metacritic.com/a/img/resize/1d9cf6e9e900ee195755a29666f4f3c1fe3ac81b/catalog/provider/2/2/2-5e7d6563a309d1abafbfe6611f28f60b.jpg?auto=webp&amp;fit=cover&amp;height=132&amp;width=88', 'https://www.metacritic.com/a/img/resize/f2e3b442a846a5e0ae37630e4a70a90fc8f1b33d/catalog/provider/2/2/2-fa3f31a9ee082f5962bf3d1c401bafb9.jpg?auto=webp&amp;fit=cover&amp;height=132&amp;width=88', 'https://www.metacritic.com/a/img/resize/7862e358c60d7e99e4ba408cbd21714f54ec933a/catalog/provider/2/2/2-8a8e64076621c48ff9f12f5bf72085e1.jpg?auto=webp&amp;fit=cover&amp;height=132&amp;width=88', 'https://www.metacritic.com/a/img/resize/487d1f8f791cfbdb5e6ddb91afa09045acfffa04/catalog/provider/2/2/2-740f914f4d4a98d2da414f4884bfc1f9.jpg?auto=webp&amp;fit=cover&amp;height=132&amp;width=88', 'https://www.metacritic.com/a/img/resize/66ae527641071323bac4e2a896f96358e9e52d23/catalog/provider/2/2/2-a4cab104cb47bc24a502c5a3de403cad.jpg?auto=webp&amp;fit=cover&amp;height=132&amp;width=88', 'https://www.metacritic.com/a/img/resize/2d6454ef8acc62c4b32150898a74c7dd6c01d779/catalog/provider/2/2/2-4edbd70f54caaba2e1896d92332e5523.jpg?auto=webp&amp;fit=cover&amp;height=132&amp;width=88', 'https://www.metacritic.com/a/img/resize/1223e187a2d7ee0d7feb8287c0367ab05b425fdf/catalog/provider/2/2/2-06f66deef6a9890d5345c659a1e230bc.jpg?auto=webp&amp;fit=cover&amp;height=132&amp;width=88', 'https://www.metacritic.com/a/img/resize/037eb6b4f4255c76df875a24abe7024962b5b8fd/catalog/provider/2/2/2-d78c7a93f79885dcfa627b09b0439d54.jpg?auto=webp&amp;fit=cover&amp;height=132&amp;width=88', 'https://www.metacritic.com/a/img/resize/cc33fc019a9e8c0b08b2bc0d2d67330fe79351b4/catalog/provider/2/2/2-adde6969853075cdc993342c0b9221d1.jpg?auto=webp&amp;fit=cover&amp;height=132&amp;width=88', 'https://www.metacritic.com/a/img/resize/a2cd516f022115df8b7b1c90d9722c6c25443553/catalog/provider/2/2/2-f0dd8b59485208bf89c6274652f1a11b.jpg?auto=webp&amp;fit=cover&amp;height=132&amp;width=88', 'https://www.metacritic.com/a/img/resize/bc17f756660705f46c5d3042f3152596f11639dc/catalog/provider/2/2/2-050166ebb2de8275cc078060a30408e0.jpg?auto=webp&amp;fit=cover&amp;height=132&amp;width=88', 'https://www.metacritic.com/a/img/resize/7a288f130add9fce9cbf082014411d72e84bf0c3/catalog/provider/2/2/2-bb956027e7bf3858ad9502a0fdb34fc8.jpg?auto=webp&amp;fit=cover&amp;height=132&amp;width=88', 'https://www.metacritic.com/a/img/resize/8585c5faabc6aa3f0f221f7ffedebdc4cc400ef3/catalog/provider/2/2/2-084cd1d92b0fdadb81b149bf2793018b.jpg?auto=webp&amp;fit=cover&amp;height=132&amp;width=88', 'https://www.metacritic.com/a/img/resize/87374f5ab8e221dd9f6982c50c33d86685ded98d/catalog/provider/2/2/2-22714a23b498ba665f8417e285a3aa6d.jpg?auto=webp&amp;fit=cover&amp;height=132&amp;width=88'].\n"
     ]
    }
   ],
   "source": [
    "print(f\"Found {len(results_Title)} matches: '{results_Title}'.\")\n",
    "print(f\"Found {len(results_RelDate)} matches: {results_RelDate}.\")\n",
    "print(f\"Found {len(results_Metacritic)} matches: {results_Metacritic}.\")\n",
    "print(f\"Found {len(results_summary)} matches: {results_summary}.\")\n",
    "print(f\"Found {len(movieThumbnail_results)} matches: {movieThumbnail_results}.\")\n"
   ]
  },
  {
   "attachments": {},
   "cell_type": "markdown",
   "metadata": {},
   "source": [
    "Adding the objects as columns to table"
   ]
  },
  {
   "cell_type": "code",
   "execution_count": 16,
   "metadata": {},
   "outputs": [
    {
     "ename": "ValueError",
     "evalue": "All arrays must be of the same length",
     "output_type": "error",
     "traceback": [
      "\u001b[1;31m---------------------------------------------------------------------------\u001b[0m",
      "\u001b[1;31mValueError\u001b[0m                                Traceback (most recent call last)",
      "Cell \u001b[1;32mIn[16], line 9\u001b[0m\n\u001b[0;32m      1\u001b[0m dataset \u001b[39m=\u001b[39m {\n\u001b[0;32m      2\u001b[0m          \u001b[39m\"\u001b[39m\u001b[39mMovie Title\u001b[39m\u001b[39m\"\u001b[39m: results_Title,\n\u001b[0;32m      3\u001b[0m          \u001b[39m\"\u001b[39m\u001b[39mRelease Date\u001b[39m\u001b[39m\"\u001b[39m: results_RelDate,\n\u001b[1;32m   (...)\u001b[0m\n\u001b[0;32m      7\u001b[0m \n\u001b[0;32m      8\u001b[0m            }\n\u001b[1;32m----> 9\u001b[0m dataframe\u001b[39m=\u001b[39m pd\u001b[39m.\u001b[39;49mDataFrame(dataset)\n\u001b[0;32m     11\u001b[0m \u001b[39mdef\u001b[39;00m \u001b[39mpath_to_image_html\u001b[39m(path: \u001b[39mstr\u001b[39m):\n\u001b[0;32m     12\u001b[0m    \u001b[39mreturn\u001b[39;00m \u001b[39mf\u001b[39m\u001b[39m\"\u001b[39m\u001b[39m<img src=\u001b[39m\u001b[39m\\\"\u001b[39;00m\u001b[39m{\u001b[39;00mpath\u001b[39m}\u001b[39;00m\u001b[39m\\\"\u001b[39;00m\u001b[39m width=\u001b[39m\u001b[39m\\\"\u001b[39;00m\u001b[39m88\u001b[39m\u001b[39m\\\"\u001b[39;00m\u001b[39m />\u001b[39m\u001b[39m\"\u001b[39m\n",
      "File \u001b[1;32mc:\\Users\\nicho\\AppData\\Local\\Programs\\Python\\Python310\\lib\\site-packages\\pandas\\core\\frame.py:736\u001b[0m, in \u001b[0;36mDataFrame.__init__\u001b[1;34m(self, data, index, columns, dtype, copy)\u001b[0m\n\u001b[0;32m    730\u001b[0m     mgr \u001b[39m=\u001b[39m \u001b[39mself\u001b[39m\u001b[39m.\u001b[39m_init_mgr(\n\u001b[0;32m    731\u001b[0m         data, axes\u001b[39m=\u001b[39m{\u001b[39m\"\u001b[39m\u001b[39mindex\u001b[39m\u001b[39m\"\u001b[39m: index, \u001b[39m\"\u001b[39m\u001b[39mcolumns\u001b[39m\u001b[39m\"\u001b[39m: columns}, dtype\u001b[39m=\u001b[39mdtype, copy\u001b[39m=\u001b[39mcopy\n\u001b[0;32m    732\u001b[0m     )\n\u001b[0;32m    734\u001b[0m \u001b[39melif\u001b[39;00m \u001b[39misinstance\u001b[39m(data, \u001b[39mdict\u001b[39m):\n\u001b[0;32m    735\u001b[0m     \u001b[39m# GH#38939 de facto copy defaults to False only in non-dict cases\u001b[39;00m\n\u001b[1;32m--> 736\u001b[0m     mgr \u001b[39m=\u001b[39m dict_to_mgr(data, index, columns, dtype\u001b[39m=\u001b[39;49mdtype, copy\u001b[39m=\u001b[39;49mcopy, typ\u001b[39m=\u001b[39;49mmanager)\n\u001b[0;32m    737\u001b[0m \u001b[39melif\u001b[39;00m \u001b[39misinstance\u001b[39m(data, ma\u001b[39m.\u001b[39mMaskedArray):\n\u001b[0;32m    738\u001b[0m     \u001b[39mfrom\u001b[39;00m \u001b[39mnumpy\u001b[39;00m\u001b[39m.\u001b[39;00m\u001b[39mma\u001b[39;00m \u001b[39mimport\u001b[39;00m mrecords\n",
      "File \u001b[1;32mc:\\Users\\nicho\\AppData\\Local\\Programs\\Python\\Python310\\lib\\site-packages\\pandas\\core\\internals\\construction.py:503\u001b[0m, in \u001b[0;36mdict_to_mgr\u001b[1;34m(data, index, columns, dtype, typ, copy)\u001b[0m\n\u001b[0;32m    499\u001b[0m     \u001b[39melse\u001b[39;00m:\n\u001b[0;32m    500\u001b[0m         \u001b[39m# dtype check to exclude e.g. range objects, scalars\u001b[39;00m\n\u001b[0;32m    501\u001b[0m         arrays \u001b[39m=\u001b[39m [x\u001b[39m.\u001b[39mcopy() \u001b[39mif\u001b[39;00m \u001b[39mhasattr\u001b[39m(x, \u001b[39m\"\u001b[39m\u001b[39mdtype\u001b[39m\u001b[39m\"\u001b[39m) \u001b[39melse\u001b[39;00m x \u001b[39mfor\u001b[39;00m x \u001b[39min\u001b[39;00m arrays]\n\u001b[1;32m--> 503\u001b[0m \u001b[39mreturn\u001b[39;00m arrays_to_mgr(arrays, columns, index, dtype\u001b[39m=\u001b[39;49mdtype, typ\u001b[39m=\u001b[39;49mtyp, consolidate\u001b[39m=\u001b[39;49mcopy)\n",
      "File \u001b[1;32mc:\\Users\\nicho\\AppData\\Local\\Programs\\Python\\Python310\\lib\\site-packages\\pandas\\core\\internals\\construction.py:114\u001b[0m, in \u001b[0;36marrays_to_mgr\u001b[1;34m(arrays, columns, index, dtype, verify_integrity, typ, consolidate)\u001b[0m\n\u001b[0;32m    111\u001b[0m \u001b[39mif\u001b[39;00m verify_integrity:\n\u001b[0;32m    112\u001b[0m     \u001b[39m# figure out the index, if necessary\u001b[39;00m\n\u001b[0;32m    113\u001b[0m     \u001b[39mif\u001b[39;00m index \u001b[39mis\u001b[39;00m \u001b[39mNone\u001b[39;00m:\n\u001b[1;32m--> 114\u001b[0m         index \u001b[39m=\u001b[39m _extract_index(arrays)\n\u001b[0;32m    115\u001b[0m     \u001b[39melse\u001b[39;00m:\n\u001b[0;32m    116\u001b[0m         index \u001b[39m=\u001b[39m ensure_index(index)\n",
      "File \u001b[1;32mc:\\Users\\nicho\\AppData\\Local\\Programs\\Python\\Python310\\lib\\site-packages\\pandas\\core\\internals\\construction.py:677\u001b[0m, in \u001b[0;36m_extract_index\u001b[1;34m(data)\u001b[0m\n\u001b[0;32m    675\u001b[0m lengths \u001b[39m=\u001b[39m \u001b[39mlist\u001b[39m(\u001b[39mset\u001b[39m(raw_lengths))\n\u001b[0;32m    676\u001b[0m \u001b[39mif\u001b[39;00m \u001b[39mlen\u001b[39m(lengths) \u001b[39m>\u001b[39m \u001b[39m1\u001b[39m:\n\u001b[1;32m--> 677\u001b[0m     \u001b[39mraise\u001b[39;00m \u001b[39mValueError\u001b[39;00m(\u001b[39m\"\u001b[39m\u001b[39mAll arrays must be of the same length\u001b[39m\u001b[39m\"\u001b[39m)\n\u001b[0;32m    679\u001b[0m \u001b[39mif\u001b[39;00m have_dicts:\n\u001b[0;32m    680\u001b[0m     \u001b[39mraise\u001b[39;00m \u001b[39mValueError\u001b[39;00m(\n\u001b[0;32m    681\u001b[0m         \u001b[39m\"\u001b[39m\u001b[39mMixing dicts with non-Series may lead to ambiguous ordering.\u001b[39m\u001b[39m\"\u001b[39m\n\u001b[0;32m    682\u001b[0m     )\n",
      "\u001b[1;31mValueError\u001b[0m: All arrays must be of the same length"
     ]
    }
   ],
   "source": [
    "dataset = {\n",
    "         \"Movie Title\": results_Title,\n",
    "         \"Release Date\": results_RelDate,\n",
    "         \"Metascore\": results_Metacritic,\n",
    "         \"Thumbnail URL\": movieThumbnail_results,\n",
    "         \"Description\": results_summary\n",
    "\n",
    "           }\n",
    "dataframe= pd.DataFrame(dataset)\n",
    "\n",
    "def path_to_image_html(path: str):\n",
    "   return f\"<img src=\\\"{path}\\\" width=\\\"88\\\" />\"\n",
    "\n",
    "formatters = dict(Thumbnail = path_to_image_html)\n",
    "html = dataframe.to_html(escape = False, formatters = formatters)\n",
    "HTML(html)"
   ]
  }
 ],
 "metadata": {
  "kernelspec": {
   "display_name": "Python 3",
   "language": "python",
   "name": "python3"
  },
  "language_info": {
   "codemirror_mode": {
    "name": "ipython",
    "version": 3
   },
   "file_extension": ".py",
   "mimetype": "text/x-python",
   "name": "python",
   "nbconvert_exporter": "python",
   "pygments_lexer": "ipython3",
   "version": "3.10.9"
  },
  "orig_nbformat": 4
 },
 "nbformat": 4,
 "nbformat_minor": 2
}
