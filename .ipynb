{
 "cells": [
  {
   "cell_type": "code",
   "execution_count": null,
   "metadata": {},
   "outputs": [],
   "source": []
  },
  {
   "cell_type": "markdown",
   "metadata": {},
   "source": []
  },
  {
   "cell_type": "code",
   "execution_count": 232,
   "metadata": {},
   "outputs": [],
   "source": [
    "# 1. Import Libraries\n",
    "import urllib3 # This is the library for making http requests. \n",
    "import certifi # This library is for root certificates, and lets us bypass browswer security\n",
    "import re # This library allows us to use regular expressions\n",
    "import pandas as pd # This library is for data-related tasks\n",
    "from IPython.core.display import HTML # Library to display HTML content in Jupyter notebook"
   ]
  },
  {
   "attachments": {},
   "cell_type": "markdown",
   "metadata": {},
   "source": [
    "2. Construct an HTTP Request Pool to expedite page fetching"
   ]
  },
  {
   "cell_type": "code",
   "execution_count": 233,
   "metadata": {},
   "outputs": [],
   "source": [
    "http = urllib3.PoolManager(ca_certs=certifi.where())"
   ]
  },
  {
   "attachments": {},
   "cell_type": "markdown",
   "metadata": {},
   "source": [
    "3. URL of Web Scrap"
   ]
  },
  {
   "cell_type": "code",
   "execution_count": 234,
   "metadata": {},
   "outputs": [],
   "source": [
    "link = \"https://www.metacritic.com/browse/movie/all/all/2008/metascore/?page=1\""
   ]
  },
  {
   "attachments": {},
   "cell_type": "markdown",
   "metadata": {},
   "source": [
    "4. Initiation of Web Request"
   ]
  },
  {
   "cell_type": "code",
   "execution_count": 235,
   "metadata": {},
   "outputs": [],
   "source": [
    "r = http.request('Get', link, headers={'User-Agent': 'Mozilla/5.0'})"
   ]
  },
  {
   "attachments": {},
   "cell_type": "markdown",
   "metadata": {},
   "source": [
    "5. Convert the Request's results from Bytes to Text (UTF-8)"
   ]
  },
  {
   "cell_type": "code",
   "execution_count": 236,
   "metadata": {},
   "outputs": [],
   "source": [
    "datastring = str(r.data, \"utf-8\")"
   ]
  },
  {
   "attachments": {},
   "cell_type": "markdown",
   "metadata": {},
   "source": [
    "6. Use Regex to find data fields, then save that field as an array"
   ]
  },
  {
   "cell_type": "code",
   "execution_count": 237,
   "metadata": {},
   "outputs": [],
   "source": [
    "# Movie Name\n",
    "movieTitle = r'<div data-title=\"(.*?)\"'\n",
    "results_Titles = re.findall(movieTitle, datastring)\n",
    "\n",
    "# Release Date\n",
    "releaseDate = r'u-text-uppercase\\\">\\s+(.*)'\n",
    "result_ReleaseDate = re.findall(releaseDate, datastring)\n",
    "\n",
    "# Metacritic Score\n",
    "metacriticScore = r'<div title=\"Metascore (.*?) out of 100\"'\n",
    "results_Metacritic = re.findall(metacriticScore, datastring)\n",
    "\n",
    "\n",
    "# Movie Thumbail\n",
    "thumbnailURL = r'<img src=\"(.*?\\d)\" h'\n",
    "results_Thumbnail = re.findall(thumbnailURL, datastring)\n",
    "\n",
    "\n",
    "# Movie Description\n",
    "movieDescriptions = r'<div class=\"c-finderProductCard_description\"><span>([^<]*)<'\n",
    "results_Descriptions = re.findall(movieDescriptions, datastring)\n"
   ]
  },
  {
   "attachments": {},
   "cell_type": "markdown",
   "metadata": {},
   "source": [
    "7. Print confirmation of each field"
   ]
  },
  {
   "cell_type": "code",
   "execution_count": 238,
   "metadata": {},
   "outputs": [
    {
     "name": "stdout",
     "output_type": "stream",
     "text": [
      "Found 24 matches: '['WALL-E', 'The Hurt Locker', 'Sita Sings the Blues', '35 Shots of Rum', 'The Class', 'Waltz with Bashir', 'Goodbye Solo', 'Still Walking', 'Man on Wire', 'Tulpan', 'Gomorrah', 'The Beaches of Agnès', 'Ponyo', 'Summer Hours', 'Rachel Getting Married', \"Momma's Man\", 'Ballast', 'Séraphine', 'Slumdog Millionaire', 'Revanche', 'Happy-Go-Lucky', 'The Dark Knight', 'A Christmas Tale', 'Tyson']'.\n",
      "Found 24 matches: ['Jun 27, 2008', 'Jun 26, 2009', 'Dec 25, 2009', 'Sep 16, 2009', 'Dec 19, 2008', 'Dec 25, 2008', 'Mar 27, 2009', 'Aug 21, 2009', 'Jul 25, 2008', 'Apr 1, 2009', 'Feb 13, 2009', 'Jul 1, 2009', 'Aug 14, 2009', 'May 15, 2009', 'Oct 3, 2008', 'Aug 22, 2008', 'Oct 1, 2008', 'Jun 5, 2009', 'Nov 12, 2008', 'May 1, 2009', 'Oct 10, 2008', 'Jul 18, 2008', 'Nov 14, 2008', 'Apr 24, 2009'].\n",
      "Found 24 matches: ['95', '95', '93', '92', '92', '91', '89', '89', '89', '88', '87', '86', '86', '86', '85', '84', '84', '84', '84', '84', '84', '84', '84', '83'].\n",
      "Found 24 matches: ['After hundreds of lonely years of doing what he was built for, Wall-E discovers a new purpose in life when he meets a sleek search robot named EVE. [Walt Disney Pictures]', \"When a new sergeant, James (Jeremy Renner), takes over a highly trained bomb disposal team amidst violent conflict, he surprises his two subordinates, Sanborn (Anthony Mackie) and Eldridge (Brian Geraghty), by recklessly plunging them into a deadly game of urban combat. James behaves as if he's indifferent to death. As the men struggle to control their wild new leader, the city explodes into chaos, and James' true character reveals itself in a way that will change each man forever. [Summit Entertainment]\", \"Sita is a goddess separated from her beloved Lord and husband Rama. Nina is an animator whose husband moves to India, then dumps her by email. Three hilarious shadow puppets narrate both ancient tragedy and modern comedy in this beautifully animated interpretation of the Indian epic Ramayana. Set to the 1920's jazz vocals of Annette Hanshaw, Sita Sings the Blues earns its tagline as &quot;the Greatest Break-Up Story Ever Told.&quot; \", 'A widowed conductor, looking forward to retirement, lives with his grown daughter in a Paris suburb.  When a neighbor starts to show interest in his &quot;little girl&quot;, the conductor tries to adjust.', \"François and his fellow teachers prepare for a new year at a high school in a tough neighborhood. Armed with the best intentions, they brace themselves to not let discouragement stop them from trying to give the best education to their students. Cultures and attitudes often clash in the classroom, a microcosm of contemporary France. As amusing and inspiring as the teenaged students can be, their difficult behavior can still jeopardize any teacher's enthusiasm for the low-paying job. François insists on an atmosphere of respect and diligence. Neither stuffy nor severe, his extravagant frankness often takes the students by surprise. But his classroom ethics are put to the test when his students begin to challenge his methods. (Sony Classics)\", 'One night at a bar, an old friend tells director Ari about a recurring nightmare in which he is chased by 26 vicious dogs. Every night, the same number of beasts. The two men conclude that there’s a connection to their Israeli Army mission in the first Lebanon War of the early eighties. Ari is surprised that he can’t remember a thing anymore about that period of his life. Intrigued by this riddle, he decides to meet and interview old friends and comrades around the world. He needs to discover the truth about that time and about himself. As Ari delves deeper and deeper into the mystery, his memory begins to creep up in surreal images. [Sony Classics]', 'On the lonely roads of Winston-Salem, North Carolina, two men forge an improbable friendship that will change both of their lives forever. Solo is a Senegalese cab driver working to provide a better life for his young family. William is a tough Southern good ol‘ boy with a lifetime of regrets. One man‘s American dream is just beginning, while the other‘s is quickly winding down. But despite their differences, both men soon realize they need each other more than either is willing to admit. Through this unlikely but unforgettable friendship, Goodbye Solo deftly explores the passing of a generation as well as the rapidly changing face of America. (Roadside Attractions)', 'Fifteen years ago, Junpei, the youngest son of the Yokoyama family died while rescuing a boy from drowning. On the anniversary of his death, the remaining siblings visit the quaint home of their parents with their families in tow. Over the course of a beautiful day, new relatives become acquainted telling stories and squabbling over sizzling tempura and an elegant graveside ritual is performed for Junpei. (IFC Films)', \"On August 7th 1974, a young Frenchman named Philippe Petit stepped out on a wire illegally rigged between New York's twin towers, then the world’s tallest buildings. After nearly an hour dancing on the wire, he was arrested, taken for psychological evaluation, and brought to jail before he was finally released. Following six and a half years of dreaming of the towers, Petit spent eight months in New York City planning the execution of the coup. Aided by a team of friends and accomplices, Petit was faced with numerous extraordinary challenges: he had to find a way to bypass the WTC’s security; smuggle the heavy steel cable and rigging equipment into the towers; pass the wire between the two rooftops; anchor the wire and tension it to withstand the winds and the swaying of the buildings. The rigging was done by night in complete secrecy. At 7:15 AM, Philippe took his first step on the high wire 1,350 feet above the sidewalks of Manhattan. [Magnolia Pictures]\", 'Following his Russian naval service, young dreamer Asa returns to his sister’s nomadic brood on the desolate Hunger Steppe to begin a hardscrabble career as a shepherd. But before he can tend a flock of his own, Asa must win the hand of the only eligible bachelorette for miles—his alluringly mysterious neighbor Tulpan.  Accompanied by his girlie mag-reading sidekick Boni (and a menagerie of adorable lambs, stampeding camels, mewing kittens and mischievous children), Asa will stop at nothing to prove he is a worthy husband and herder.  (Zeitgeist Films)', 'Power, money and blood: these are the values that the residents of the province of Naples and Caserta confront every day. They have practically no choice, and are forced to obey the rules of the &quot;System,&quot; the Camorra. Only a lucky few can even think of leading a normal life. Five stories are woven together in this violent scenario, set in a cruel and ostensibly invented world, but one that is deeply rooted in reality. (IFC Films)', 'A reflection on art, life and the movies, The Beaches of Agnes is a magnificent new film from the great Agnes Varda, a richly cinematic self portrait that touches on everything from the feminist movement and the black panthers to the films of husband Jacques Demy and the birth of the French New Wave. (Cinema Guild)', \"Ponyo is a story inspired by Hans Christian Andersen's fairy tale &quot;The Little Mermaid.&quot; Already a box-office success in Japan, the story of a young and overeager goldfish named Ponyo and her quest to become human features an outstanding roster of voice talent. (Walt Disney Pictures)\\r\\n\", \"The divergent paths of three forty-something siblings collide when their mother, heiress to her uncle's exceptional 19th century art collection, dies suddenly. Left to come to terms with themselves and their differences, Adrienne, a successful New York designer, Frederic, an economist and university professor in Paris, and Jeremie, a dynamic businessman in China, confront the end of childhood, their shared memories, background and unique vision of the future. [IFC films]\", 'When Kym returns to the Buchman family home for the wedding of her sister Rachel, she brings a long history of personal crisis, family conflict and tragedy along with her. The wedding couple’s abundant party of friends and relations have gathered for a joyful weekend of feasting, music and love, but Kym—with her biting one-liners and flair for bombshell drama—is a catalyst for long-simmering tensions in the family dynamic. [Sony Picture Classics]', 'Momma’s Man chronicles the increasingly anxious dilemma of Mikey, a young husband and father who stops off at his parents’ loft during a business trip to New York and finds himself emotionally unable to leave. Unsure of his own motivations, he makes up excuses about why he’s staying – his flight is delayed; his flight is canceled – but while his doting mother (the director’s real mother) is more than happy to enable his procrastination, his father (the director’s real father) grows suspicious of his sons changes of plans. (Kino International)', 'In the cold, winter light of a rural Mississippi Delta township, a man’s suicide radically transforms three characters’ lives and throws off-balance what has long been a static arrangement among them. Marlee is a single mother struggling to scratch a living for herself and James, her 12-year-old son, who has begun to stumble under drug and violence pressures. So when the opportunity to seek safe harbor at a new home arises, she grabs it, though the property is shared by Lawrence, a man with whom Marlee has feuded bitterly since James’s birth. With circumstances thrusting them into proximity, a subtle interdependence and common purpose emerge for Marlee and Lawrence as they navigate grief, test new waters, and tentatively move forward. (Alluvial Film Company)', 'Seraphine vividly recounts the tragic story of French naïve painter Séraphine Louis aka Séraphine de Senlis (1864-1942), a humble servant who becomes a gifted self-taught painter. Discovered by prominent critic and collector William Uhde, she came to prominence between the wars grouped with other naïve painters like Henri Rousseau only to descend into madness and obscurity with the onset of the Great Depression and World War II. (Music Box Films)', 'Slumdog Millionaire is the story of Jamal Malik, an 18 year-old orphan from the slums of Mumbai, who is about to experience the biggest day of his life. With the whole nation watching, he is just one question away from winning a staggering 20 million rupees on India’s “Who Wants To Be A Millionaire?”But when the show breaks for the night, police arrest him on suspicion of cheating; how could a street kid know so much? Desperate to prove his innocence, Jamal tells the story of his life in the slum where he and his brother grew up, of their adventures together on the road, of vicious encounters with local gangs, and of Latika, the girl he loved and lost. Each chapter of his story reveals the key to the answer to one of the game show’s questions. Intrigued by Jamal’s story, the jaded Police Inspector begins to wonder what a young man with no apparent desire for riches is really doing on this game show? When the new day dawns and Jamal returns to answer the final question, the Inspector and sixty million viewers are about to find out. [Fox Searchlight]', 'At once a gripping thriller and a tragic drama of nearly Greek proportions, Revanche is the stunning, Oscar–nominated, international breakthrough film from Austrian filmmaker Götz Spielmann. In a ragged section of Vienna, hardened ex-con Alex works as an assistant in a brothel, where he falls for Ukrainian hooker Tamara. Their desperate plans for escape unexpectedly intersect with the lives of a rural cop and his seemingly content wife. With meticulous, elegant direction, Spielmann creates a tense, existential, and surprising portrait of vengeance and redemption, and a journey into the darkest forest of human nature, in which violence and beauty exist side by side. (Janus Film)', \"Just how hard is it to be happy?  Poppy is an irrepressibly free-spirited school teacher who brings an infectious laugh and an unsinkable sense of optimism to every situation she encounters, offering us a touching, truthful and deeply life-affirming exploration of one of the most mysterious and often the most elusive of all human qualities: happiness. Poppy's ability to maintain her perspective is tested as the story begins and her commuter bike is stolen. However, she enthusiastically signs up for driving lessons with Scott, who turns out to be her nemesis – a fuming, uptight cynic. As the tension of their weekly lessons builds, Poppy encounters even more challenges to her positive state of mind: a fiery flamenco instructor, her bitter pregnant sister, a troubled homeless man and a young bully in her class, not to mention that she has also thrown out her back. How this affects not only Poppy's world view but also the outlook of those around her begs the question &quot;glass half full or half empty&quot;? (Miramax)\", 'Batman raises the stakes in his war on crime. With the help of Lieutenant Jim Gordon and District Attorney Harvey Dent Batman sets out to dismantle the remaining criminal organizations that plague the city streets. The partnership proves to be effective, but they soon find themselves prey to reign of chaos unleashed by a rising criminal mastermind known to the terrified citizens of Gotham as the Joker. (Warner Bros.)', \"Abel and Junon had two children, Joseph and Elizabeth. Victim of a rare genetic condition, Joseph's only hope was a bone marrow transplant. As they and Elizabeth were incompatible, his parents conceived a third child in the hope of saving their son. But little Henri too was unable to help his brother, and Joseph died at the age of seven. The Vuillard family has never recovered. Many years have passed, and family relationships are more strained than ever. In particular, those between Elizabeth, authoritarian head of the family and Henri, a cynical drop out who divides his time between women and drink. After a violent argument, Elizabeth banishes her feckless brother, cutting him off from his nephew, her son Paul - a tortured adolescent beset by serious mental problems. Masterfully directed and acted, by turns savage, bittersweet, darkly comic and unbearably moving, A Christmas Tale shows internationally acclaimed Desplechin at the height of his powers. (IFC Films) \", \"Tyson is acclaimed indie director James Toback's stylistically inventive portrait of a mesmerizing Mike Tyson. Toback allows Tyson to reveal himself without inhibition and with eloquence and a pervasive vulnerability. Through a mixture of original interviews and archival footage and photographs, a\\r\\nstartlingly complex, fully-rounded human being emerges. The film ranges from Tyson’s earliest memories of growing up on the mean streets of Brooklyn through his entry into the world of boxing, to his roller coaster ride in the fun house of worldwide fame and fortunes won and lost. It is the story of a legendary and uniquely controversial international athletic icon, a figure conjuring radical questions of race and class. In its depiction of a man rising from the most debased circumstances to unlimited heights, destroyed by his own hubris, Tyson emerges as a modern day version of classic Greek tragedy. (Sony Classics)\"].\n"
     ]
    }
   ],
   "source": [
    "print(f\"Found {len(results_Titles)} matches: '{results_Titles}'.\")\n",
    "print(f\"Found {len(result_ReleaseDate)} matches: {result_ReleaseDate}.\")\n",
    "print(f\"Found {len(results_Metacritic)} matches: {results_Metacritic}.\")\n",
    "#print(f\"Found {len(results_Thumbnail)} matches: {movieThumbnail_results}.\")\n",
    "print(f\"Found {len(results_Descriptions)} matches: {results_Descriptions}.\")"
   ]
  },
  {
   "attachments": {},
   "cell_type": "markdown",
   "metadata": {},
   "source": [
    "Call previously declared fields into pandas table"
   ]
  },
  {
   "cell_type": "code",
   "execution_count": 239,
   "metadata": {},
   "outputs": [],
   "source": [
    "dataset = {\n",
    "    \"Title\": results_Titles,\n",
    "    \"Date Released\": result_ReleaseDate,\n",
    "    \"Metascore\": results_Metacritic,\n",
    "    \"Thumbnail\": results_Thumbnail,\n",
    "    \"Description\": results_Descriptions\n",
    "    }\n",
    "dataFrame = pd.DataFrame(dataset)"
   ]
  },
  {
   "attachments": {},
   "cell_type": "markdown",
   "metadata": {},
   "source": [
    "Create a formatter to convert URLs into inline images"
   ]
  },
  {
   "cell_type": "code",
   "execution_count": 240,
   "metadata": {},
   "outputs": [],
   "source": [
    "def path_to_image_html(path: str):\n",
    "    return f\"<img src=\\\"{path}\\\" width=\\\"88\\\" />\""
   ]
  },
  {
   "attachments": {},
   "cell_type": "markdown",
   "metadata": {},
   "source": [
    "Format the pandas dataframe to output using the formatter we created"
   ]
  },
  {
   "cell_type": "code",
   "execution_count": 241,
   "metadata": {},
   "outputs": [
    {
     "data": {
      "text/html": [
       "<table border=\"1\" class=\"dataframe\">\n",
       "  <thead>\n",
       "    <tr style=\"text-align: right;\">\n",
       "      <th></th>\n",
       "      <th>Title</th>\n",
       "      <th>Date Released</th>\n",
       "      <th>Metascore</th>\n",
       "      <th>Thumbnail</th>\n",
       "      <th>Description</th>\n",
       "    </tr>\n",
       "  </thead>\n",
       "  <tbody>\n",
       "    <tr>\n",
       "      <th>0</th>\n",
       "      <td>WALL-E</td>\n",
       "      <td>Jun 27, 2008</td>\n",
       "      <td>95</td>\n",
       "      <td><img src=\"https://www.metacritic.com/a/img/resize/2d6454ef8acc62c4b32150898a74c7dd6c01d779/catalog/provider/2/2/2-4edbd70f54caaba2e1896d92332e5523.jpg?auto=webp&amp;fit=cover&amp;height=132&amp;width=88\" width=\"88\" /></td>\n",
       "      <td>After hundreds of lonely years of doing what he was built for, Wall-E discovers a new purpose in life when he meets a sleek search robot named EVE. [Walt Disney Pictures]</td>\n",
       "    </tr>\n",
       "    <tr>\n",
       "      <th>1</th>\n",
       "      <td>The Hurt Locker</td>\n",
       "      <td>Jun 26, 2009</td>\n",
       "      <td>95</td>\n",
       "      <td><img src=\"https://www.metacritic.com/a/img/resize/cc33fc019a9e8c0b08b2bc0d2d67330fe79351b4/catalog/provider/2/2/2-adde6969853075cdc993342c0b9221d1.jpg?auto=webp&amp;fit=cover&amp;height=132&amp;width=88\" width=\"88\" /></td>\n",
       "      <td>When a new sergeant, James (Jeremy Renner), takes over a highly trained bomb disposal team amidst violent conflict, he surprises his two subordinates, Sanborn (Anthony Mackie) and Eldridge (Brian Geraghty), by recklessly plunging them into a deadly game of urban combat. James behaves as if he's indifferent to death. As the men struggle to control their wild new leader, the city explodes into chaos, and James' true character reveals itself in a way that will change each man forever. [Summit Entertainment]</td>\n",
       "    </tr>\n",
       "    <tr>\n",
       "      <th>2</th>\n",
       "      <td>Sita Sings the Blues</td>\n",
       "      <td>Dec 25, 2009</td>\n",
       "      <td>93</td>\n",
       "      <td><img src=\"https://www.metacritic.com/a/img/resize/2d61205742203f2e592fce84bd0d0d3a00978254/catalog/provider/2/2/2-cba2ff25f20d111f2bccc6beea27e106.jpg?auto=webp&amp;fit=cover&amp;height=132&amp;width=88\" width=\"88\" /></td>\n",
       "      <td>Sita is a goddess separated from her beloved Lord and husband Rama. Nina is an animator whose husband moves to India, then dumps her by email. Three hilarious shadow puppets narrate both ancient tragedy and modern comedy in this beautifully animated interpretation of the Indian epic Ramayana. Set to the 1920's jazz vocals of Annette Hanshaw, Sita Sings the Blues earns its tagline as &quot;the Greatest Break-Up Story Ever Told.&quot;</td>\n",
       "    </tr>\n",
       "    <tr>\n",
       "      <th>3</th>\n",
       "      <td>35 Shots of Rum</td>\n",
       "      <td>Sep 16, 2009</td>\n",
       "      <td>92</td>\n",
       "      <td><img src=\"https://www.metacritic.com/a/img/resize/602c5d9343b315e517f61dc99bf713cd8923d3a3/catalog/provider/2/2/2-9ae678e5bdfbc42f2c1a24afe30bb5f6.jpg?auto=webp&amp;fit=cover&amp;height=132&amp;width=88\" width=\"88\" /></td>\n",
       "      <td>A widowed conductor, looking forward to retirement, lives with his grown daughter in a Paris suburb.  When a neighbor starts to show interest in his &quot;little girl&quot;, the conductor tries to adjust.</td>\n",
       "    </tr>\n",
       "    <tr>\n",
       "      <th>4</th>\n",
       "      <td>The Class</td>\n",
       "      <td>Dec 19, 2008</td>\n",
       "      <td>92</td>\n",
       "      <td><img src=\"https://www.metacritic.com/a/img/resize/53aa31ad00afe0e7d5c2f7a76fdae08c16f7b446/catalog/provider/2/2/2-76b31c9083d6ba9f630b2183966380d2.jpg?auto=webp&amp;fit=cover&amp;height=132&amp;width=88\" width=\"88\" /></td>\n",
       "      <td>François and his fellow teachers prepare for a new year at a high school in a tough neighborhood. Armed with the best intentions, they brace themselves to not let discouragement stop them from trying to give the best education to their students. Cultures and attitudes often clash in the classroom, a microcosm of contemporary France. As amusing and inspiring as the teenaged students can be, their difficult behavior can still jeopardize any teacher's enthusiasm for the low-paying job. François insists on an atmosphere of respect and diligence. Neither stuffy nor severe, his extravagant frankness often takes the students by surprise. But his classroom ethics are put to the test when his students begin to challenge his methods. (Sony Classics)</td>\n",
       "    </tr>\n",
       "    <tr>\n",
       "      <th>5</th>\n",
       "      <td>Waltz with Bashir</td>\n",
       "      <td>Dec 25, 2008</td>\n",
       "      <td>91</td>\n",
       "      <td><img src=\"https://www.metacritic.com/a/img/resize/befabd95103d13817086fec62cebcb52cc18ead9/catalog/provider/2/2/2-f54ea351385b86b88a94098e752b8b0b.jpg?auto=webp&amp;fit=cover&amp;height=132&amp;width=88\" width=\"88\" /></td>\n",
       "      <td>One night at a bar, an old friend tells director Ari about a recurring nightmare in which he is chased by 26 vicious dogs. Every night, the same number of beasts. The two men conclude that there’s a connection to their Israeli Army mission in the first Lebanon War of the early eighties. Ari is surprised that he can’t remember a thing anymore about that period of his life. Intrigued by this riddle, he decides to meet and interview old friends and comrades around the world. He needs to discover the truth about that time and about himself. As Ari delves deeper and deeper into the mystery, his memory begins to creep up in surreal images. [Sony Classics]</td>\n",
       "    </tr>\n",
       "    <tr>\n",
       "      <th>6</th>\n",
       "      <td>Goodbye Solo</td>\n",
       "      <td>Mar 27, 2009</td>\n",
       "      <td>89</td>\n",
       "      <td><img src=\"https://www.metacritic.com/a/img/resize/875c2e37837fa0198df54bbd7bdd90991e88c98f/catalog/provider/2/2/2-4523bbb63fed7950ed01a885df419094.jpg?auto=webp&amp;fit=cover&amp;height=132&amp;width=88\" width=\"88\" /></td>\n",
       "      <td>On the lonely roads of Winston-Salem, North Carolina, two men forge an improbable friendship that will change both of their lives forever. Solo is a Senegalese cab driver working to provide a better life for his young family. William is a tough Southern good ol‘ boy with a lifetime of regrets. One man‘s American dream is just beginning, while the other‘s is quickly winding down. But despite their differences, both men soon realize they need each other more than either is willing to admit. Through this unlikely but unforgettable friendship, Goodbye Solo deftly explores the passing of a generation as well as the rapidly changing face of America. (Roadside Attractions)</td>\n",
       "    </tr>\n",
       "    <tr>\n",
       "      <th>7</th>\n",
       "      <td>Still Walking</td>\n",
       "      <td>Aug 21, 2009</td>\n",
       "      <td>89</td>\n",
       "      <td><img src=\"https://www.metacritic.com/a/img/resize/f3fca107a96abf3e51c0a52dc4f57b8ed7a7d2a7/catalog/provider/2/2/2-7d3ebba92bdfe3156c1f30487cdbf09e.jpg?auto=webp&amp;fit=cover&amp;height=132&amp;width=88\" width=\"88\" /></td>\n",
       "      <td>Fifteen years ago, Junpei, the youngest son of the Yokoyama family died while rescuing a boy from drowning. On the anniversary of his death, the remaining siblings visit the quaint home of their parents with their families in tow. Over the course of a beautiful day, new relatives become acquainted telling stories and squabbling over sizzling tempura and an elegant graveside ritual is performed for Junpei. (IFC Films)</td>\n",
       "    </tr>\n",
       "    <tr>\n",
       "      <th>8</th>\n",
       "      <td>Man on Wire</td>\n",
       "      <td>Jul 25, 2008</td>\n",
       "      <td>89</td>\n",
       "      <td><img src=\"https://www.metacritic.com/a/img/resize/77c99dd651c4878aab87a40ce16235ac47edab4d/catalog/provider/2/2/2-b5aa08a4d39117f96f702134b0312a1e.jpg?auto=webp&amp;fit=cover&amp;height=132&amp;width=88\" width=\"88\" /></td>\n",
       "      <td>On August 7th 1974, a young Frenchman named Philippe Petit stepped out on a wire illegally rigged between New York's twin towers, then the world’s tallest buildings. After nearly an hour dancing on the wire, he was arrested, taken for psychological evaluation, and brought to jail before he was finally released. Following six and a half years of dreaming of the towers, Petit spent eight months in New York City planning the execution of the coup. Aided by a team of friends and accomplices, Petit was faced with numerous extraordinary challenges: he had to find a way to bypass the WTC’s security; smuggle the heavy steel cable and rigging equipment into the towers; pass the wire between the two rooftops; anchor the wire and tension it to withstand the winds and the swaying of the buildings. The rigging was done by night in complete secrecy. At 7:15 AM, Philippe took his first step on the high wire 1,350 feet above the sidewalks of Manhattan. [Magnolia Pictures]</td>\n",
       "    </tr>\n",
       "    <tr>\n",
       "      <th>9</th>\n",
       "      <td>Tulpan</td>\n",
       "      <td>Apr 1, 2009</td>\n",
       "      <td>88</td>\n",
       "      <td><img src=\"https://www.metacritic.com/a/img/resize/badbc9c9ae5ebca6172564f4ac6b67572791fac1/catalog/provider/2/2/2-eaea3e7e967a2ef83f1e23e21a558e54.jpg?auto=webp&amp;fit=cover&amp;height=132&amp;width=88\" width=\"88\" /></td>\n",
       "      <td>Following his Russian naval service, young dreamer Asa returns to his sister’s nomadic brood on the desolate Hunger Steppe to begin a hardscrabble career as a shepherd. But before he can tend a flock of his own, Asa must win the hand of the only eligible bachelorette for miles—his alluringly mysterious neighbor Tulpan.  Accompanied by his girlie mag-reading sidekick Boni (and a menagerie of adorable lambs, stampeding camels, mewing kittens and mischievous children), Asa will stop at nothing to prove he is a worthy husband and herder.  (Zeitgeist Films)</td>\n",
       "    </tr>\n",
       "    <tr>\n",
       "      <th>10</th>\n",
       "      <td>Gomorrah</td>\n",
       "      <td>Feb 13, 2009</td>\n",
       "      <td>87</td>\n",
       "      <td><img src=\"https://www.metacritic.com/a/img/resize/73280edad55d20da3f04d8e8999f3c0d27366257/catalog/provider/2/2/2-b9533232d98ed89978300cad93093235.jpg?auto=webp&amp;fit=cover&amp;height=132&amp;width=88\" width=\"88\" /></td>\n",
       "      <td>Power, money and blood: these are the values that the residents of the province of Naples and Caserta confront every day. They have practically no choice, and are forced to obey the rules of the &quot;System,&quot; the Camorra. Only a lucky few can even think of leading a normal life. Five stories are woven together in this violent scenario, set in a cruel and ostensibly invented world, but one that is deeply rooted in reality. (IFC Films)</td>\n",
       "    </tr>\n",
       "    <tr>\n",
       "      <th>11</th>\n",
       "      <td>The Beaches of Agnès</td>\n",
       "      <td>Jul 1, 2009</td>\n",
       "      <td>86</td>\n",
       "      <td><img src=\"https://www.metacritic.com/a/img/resize/64a873b72deb65e0a8beb8446e9a828d2feaf7d4/catalog/provider/2/2/2-2af51142d91ff18fe8414623423fcc9d.jpg?auto=webp&amp;fit=cover&amp;height=132&amp;width=88\" width=\"88\" /></td>\n",
       "      <td>A reflection on art, life and the movies, The Beaches of Agnes is a magnificent new film from the great Agnes Varda, a richly cinematic self portrait that touches on everything from the feminist movement and the black panthers to the films of husband Jacques Demy and the birth of the French New Wave. (Cinema Guild)</td>\n",
       "    </tr>\n",
       "    <tr>\n",
       "      <th>12</th>\n",
       "      <td>Ponyo</td>\n",
       "      <td>Aug 14, 2009</td>\n",
       "      <td>86</td>\n",
       "      <td><img src=\"https://www.metacritic.com/a/img/resize/786e03e6e415837cf825287d2716d7d08ca664a2/catalog/provider/2/2/2-252d5b43bd003b0c3d2e6aa1926a61da.jpg?auto=webp&amp;fit=cover&amp;height=132&amp;width=88\" width=\"88\" /></td>\n",
       "      <td>Ponyo is a story inspired by Hans Christian Andersen's fairy tale &quot;The Little Mermaid.&quot; Already a box-office success in Japan, the story of a young and overeager goldfish named Ponyo and her quest to become human features an outstanding roster of voice talent. (Walt Disney Pictures)\\r\\n</td>\n",
       "    </tr>\n",
       "    <tr>\n",
       "      <th>13</th>\n",
       "      <td>Summer Hours</td>\n",
       "      <td>May 15, 2009</td>\n",
       "      <td>86</td>\n",
       "      <td><img src=\"https://www.metacritic.com/a/img/resize/20962239edf80425ac32dd728ad90988ba21d121/catalog/provider/2/2/2-949cfdafc075e36f5073f3be697bc24a.jpg?auto=webp&amp;fit=cover&amp;height=132&amp;width=88\" width=\"88\" /></td>\n",
       "      <td>The divergent paths of three forty-something siblings collide when their mother, heiress to her uncle's exceptional 19th century art collection, dies suddenly. Left to come to terms with themselves and their differences, Adrienne, a successful New York designer, Frederic, an economist and university professor in Paris, and Jeremie, a dynamic businessman in China, confront the end of childhood, their shared memories, background and unique vision of the future. [IFC films]</td>\n",
       "    </tr>\n",
       "    <tr>\n",
       "      <th>14</th>\n",
       "      <td>Rachel Getting Married</td>\n",
       "      <td>Oct 3, 2008</td>\n",
       "      <td>85</td>\n",
       "      <td><img src=\"https://www.metacritic.com/a/img/resize/a358ba99ef718451b39e686f930701e3301319bb/catalog/provider/2/2/2-7d239c85b69a201eed820b4dc2d74179.jpg?auto=webp&amp;fit=cover&amp;height=132&amp;width=88\" width=\"88\" /></td>\n",
       "      <td>When Kym returns to the Buchman family home for the wedding of her sister Rachel, she brings a long history of personal crisis, family conflict and tragedy along with her. The wedding couple’s abundant party of friends and relations have gathered for a joyful weekend of feasting, music and love, but Kym—with her biting one-liners and flair for bombshell drama—is a catalyst for long-simmering tensions in the family dynamic. [Sony Picture Classics]</td>\n",
       "    </tr>\n",
       "    <tr>\n",
       "      <th>15</th>\n",
       "      <td>Momma's Man</td>\n",
       "      <td>Aug 22, 2008</td>\n",
       "      <td>84</td>\n",
       "      <td><img src=\"https://www.metacritic.com/a/img/resize/a630790d85553875beb1eddaad1260bd9a286c67/catalog/provider/2/2/2-c148bf467cf558d061360497626000fc.jpg?auto=webp&amp;fit=cover&amp;height=132&amp;width=88\" width=\"88\" /></td>\n",
       "      <td>Momma’s Man chronicles the increasingly anxious dilemma of Mikey, a young husband and father who stops off at his parents’ loft during a business trip to New York and finds himself emotionally unable to leave. Unsure of his own motivations, he makes up excuses about why he’s staying – his flight is delayed; his flight is canceled – but while his doting mother (the director’s real mother) is more than happy to enable his procrastination, his father (the director’s real father) grows suspicious of his sons changes of plans. (Kino International)</td>\n",
       "    </tr>\n",
       "    <tr>\n",
       "      <th>16</th>\n",
       "      <td>Ballast</td>\n",
       "      <td>Oct 1, 2008</td>\n",
       "      <td>84</td>\n",
       "      <td><img src=\"https://www.metacritic.com/a/img/resize/78aaa10d0e94910afd82cd76ed817695360cdb06/catalog/provider/2/2/2-d0f25f24a8f2dec4c5fd583219ae9c9e.jpg?auto=webp&amp;fit=cover&amp;height=132&amp;width=88\" width=\"88\" /></td>\n",
       "      <td>In the cold, winter light of a rural Mississippi Delta township, a man’s suicide radically transforms three characters’ lives and throws off-balance what has long been a static arrangement among them. Marlee is a single mother struggling to scratch a living for herself and James, her 12-year-old son, who has begun to stumble under drug and violence pressures. So when the opportunity to seek safe harbor at a new home arises, she grabs it, though the property is shared by Lawrence, a man with whom Marlee has feuded bitterly since James’s birth. With circumstances thrusting them into proximity, a subtle interdependence and common purpose emerge for Marlee and Lawrence as they navigate grief, test new waters, and tentatively move forward. (Alluvial Film Company)</td>\n",
       "    </tr>\n",
       "    <tr>\n",
       "      <th>17</th>\n",
       "      <td>Séraphine</td>\n",
       "      <td>Jun 5, 2009</td>\n",
       "      <td>84</td>\n",
       "      <td><img src=\"https://www.metacritic.com/a/img/resize/8b38d29f1defc80c9a380df5845dac6f1bb172fa/catalog/provider/2/2/2-81c804a6b77f2e55d43606375f8b280c.jpg?auto=webp&amp;fit=cover&amp;height=132&amp;width=88\" width=\"88\" /></td>\n",
       "      <td>Seraphine vividly recounts the tragic story of French naïve painter Séraphine Louis aka Séraphine de Senlis (1864-1942), a humble servant who becomes a gifted self-taught painter. Discovered by prominent critic and collector William Uhde, she came to prominence between the wars grouped with other naïve painters like Henri Rousseau only to descend into madness and obscurity with the onset of the Great Depression and World War II. (Music Box Films)</td>\n",
       "    </tr>\n",
       "    <tr>\n",
       "      <th>18</th>\n",
       "      <td>Slumdog Millionaire</td>\n",
       "      <td>Nov 12, 2008</td>\n",
       "      <td>84</td>\n",
       "      <td><img src=\"https://www.metacritic.com/a/img/resize/3a8ae3e4669063fa7ed69a3824cbb84ff868bc02/catalog/provider/2/2/2-cde4c7d66e745a6403c3e1915fd647f7.jpg?auto=webp&amp;fit=cover&amp;height=132&amp;width=88\" width=\"88\" /></td>\n",
       "      <td>Slumdog Millionaire is the story of Jamal Malik, an 18 year-old orphan from the slums of Mumbai, who is about to experience the biggest day of his life. With the whole nation watching, he is just one question away from winning a staggering 20 million rupees on India’s “Who Wants To Be A Millionaire?”But when the show breaks for the night, police arrest him on suspicion of cheating; how could a street kid know so much? Desperate to prove his innocence, Jamal tells the story of his life in the slum where he and his brother grew up, of their adventures together on the road, of vicious encounters with local gangs, and of Latika, the girl he loved and lost. Each chapter of his story reveals the key to the answer to one of the game show’s questions. Intrigued by Jamal’s story, the jaded Police Inspector begins to wonder what a young man with no apparent desire for riches is really doing on this game show? When the new day dawns and Jamal returns to answer the final question, the Inspector and sixty million viewers are about to find out. [Fox Searchlight]</td>\n",
       "    </tr>\n",
       "    <tr>\n",
       "      <th>19</th>\n",
       "      <td>Revanche</td>\n",
       "      <td>May 1, 2009</td>\n",
       "      <td>84</td>\n",
       "      <td><img src=\"https://www.metacritic.com/a/img/resize/cb4594252aa8ccf81ba0651c2e528c36be1b009a/catalog/provider/2/2/2-9aa2acb02253e1eb0d2d6e7b6dabbc04.jpg?auto=webp&amp;fit=cover&amp;height=132&amp;width=88\" width=\"88\" /></td>\n",
       "      <td>At once a gripping thriller and a tragic drama of nearly Greek proportions, Revanche is the stunning, Oscar–nominated, international breakthrough film from Austrian filmmaker Götz Spielmann. In a ragged section of Vienna, hardened ex-con Alex works as an assistant in a brothel, where he falls for Ukrainian hooker Tamara. Their desperate plans for escape unexpectedly intersect with the lives of a rural cop and his seemingly content wife. With meticulous, elegant direction, Spielmann creates a tense, existential, and surprising portrait of vengeance and redemption, and a journey into the darkest forest of human nature, in which violence and beauty exist side by side. (Janus Film)</td>\n",
       "    </tr>\n",
       "    <tr>\n",
       "      <th>20</th>\n",
       "      <td>Happy-Go-Lucky</td>\n",
       "      <td>Oct 10, 2008</td>\n",
       "      <td>84</td>\n",
       "      <td><img src=\"https://www.metacritic.com/a/img/resize/4de325dbd7ef38ad7a6374cf809f0093c4182beb/catalog/provider/2/2/2-acfee395320b56dd65552e74735ce03e.jpg?auto=webp&amp;fit=cover&amp;height=132&amp;width=88\" width=\"88\" /></td>\n",
       "      <td>Just how hard is it to be happy?  Poppy is an irrepressibly free-spirited school teacher who brings an infectious laugh and an unsinkable sense of optimism to every situation she encounters, offering us a touching, truthful and deeply life-affirming exploration of one of the most mysterious and often the most elusive of all human qualities: happiness. Poppy's ability to maintain her perspective is tested as the story begins and her commuter bike is stolen. However, she enthusiastically signs up for driving lessons with Scott, who turns out to be her nemesis – a fuming, uptight cynic. As the tension of their weekly lessons builds, Poppy encounters even more challenges to her positive state of mind: a fiery flamenco instructor, her bitter pregnant sister, a troubled homeless man and a young bully in her class, not to mention that she has also thrown out her back. How this affects not only Poppy's world view but also the outlook of those around her begs the question &quot;glass half full or half empty&quot;? (Miramax)</td>\n",
       "    </tr>\n",
       "    <tr>\n",
       "      <th>21</th>\n",
       "      <td>The Dark Knight</td>\n",
       "      <td>Jul 18, 2008</td>\n",
       "      <td>84</td>\n",
       "      <td><img src=\"https://www.metacritic.com/a/img/resize/f44e9c5082ff7c589b715c185daf5adc4b65172f/catalog/provider/2/2/2-f78077c63a9e35ab22a45b804e1141f5.jpg?auto=webp&amp;fit=cover&amp;height=132&amp;width=88\" width=\"88\" /></td>\n",
       "      <td>Batman raises the stakes in his war on crime. With the help of Lieutenant Jim Gordon and District Attorney Harvey Dent Batman sets out to dismantle the remaining criminal organizations that plague the city streets. The partnership proves to be effective, but they soon find themselves prey to reign of chaos unleashed by a rising criminal mastermind known to the terrified citizens of Gotham as the Joker. (Warner Bros.)</td>\n",
       "    </tr>\n",
       "    <tr>\n",
       "      <th>22</th>\n",
       "      <td>A Christmas Tale</td>\n",
       "      <td>Nov 14, 2008</td>\n",
       "      <td>84</td>\n",
       "      <td><img src=\"https://www.metacritic.com/a/img/resize/62c04d7116f116eb55e4bc700af0851dd81366a8/catalog/provider/2/2/2-90f7552039bed33237bd26e5d6e23cdb.jpg?auto=webp&amp;fit=cover&amp;height=132&amp;width=88\" width=\"88\" /></td>\n",
       "      <td>Abel and Junon had two children, Joseph and Elizabeth. Victim of a rare genetic condition, Joseph's only hope was a bone marrow transplant. As they and Elizabeth were incompatible, his parents conceived a third child in the hope of saving their son. But little Henri too was unable to help his brother, and Joseph died at the age of seven. The Vuillard family has never recovered. Many years have passed, and family relationships are more strained than ever. In particular, those between Elizabeth, authoritarian head of the family and Henri, a cynical drop out who divides his time between women and drink. After a violent argument, Elizabeth banishes her feckless brother, cutting him off from his nephew, her son Paul - a tortured adolescent beset by serious mental problems. Masterfully directed and acted, by turns savage, bittersweet, darkly comic and unbearably moving, A Christmas Tale shows internationally acclaimed Desplechin at the height of his powers. (IFC Films)</td>\n",
       "    </tr>\n",
       "    <tr>\n",
       "      <th>23</th>\n",
       "      <td>Tyson</td>\n",
       "      <td>Apr 24, 2009</td>\n",
       "      <td>83</td>\n",
       "      <td><img src=\"https://www.metacritic.com/a/img/resize/b06d252d6884f0bc583bb84e752a68a142010651/catalog/provider/2/2/2-9508cd82a61c1fe3260c066823de737f.jpg?auto=webp&amp;fit=cover&amp;height=132&amp;width=88\" width=\"88\" /></td>\n",
       "      <td>Tyson is acclaimed indie director James Toback's stylistically inventive portrait of a mesmerizing Mike Tyson. Toback allows Tyson to reveal himself without inhibition and with eloquence and a pervasive vulnerability. Through a mixture of original interviews and archival footage and photographs, a\\r\\nstartlingly complex, fully-rounded human being emerges. The film ranges from Tyson’s earliest memories of growing up on the mean streets of Brooklyn through his entry into the world of boxing, to his roller coaster ride in the fun house of worldwide fame and fortunes won and lost. It is the story of a legendary and uniquely controversial international athletic icon, a figure conjuring radical questions of race and class. In its depiction of a man rising from the most debased circumstances to unlimited heights, destroyed by his own hubris, Tyson emerges as a modern day version of classic Greek tragedy. (Sony Classics)</td>\n",
       "    </tr>\n",
       "  </tbody>\n",
       "</table>"
      ],
      "text/plain": [
       "<IPython.core.display.HTML object>"
      ]
     },
     "execution_count": 241,
     "metadata": {},
     "output_type": "execute_result"
    }
   ],
   "source": [
    "formatters = dict(Thumbnail = path_to_image_html)\n",
    "html = dataFrame.to_html(escape = False, formatters = formatters)\n",
    "HTML(html)"
   ]
  }
 ],
 "metadata": {
  "kernelspec": {
   "display_name": "Python 3",
   "language": "python",
   "name": "python3"
  },
  "language_info": {
   "codemirror_mode": {
    "name": "ipython",
    "version": 3
   },
   "file_extension": ".py",
   "mimetype": "text/x-python",
   "name": "python",
   "nbconvert_exporter": "python",
   "pygments_lexer": "ipython3",
   "version": "3.11.3"
  },
  "orig_nbformat": 4
 },
 "nbformat": 4,
 "nbformat_minor": 2
}
